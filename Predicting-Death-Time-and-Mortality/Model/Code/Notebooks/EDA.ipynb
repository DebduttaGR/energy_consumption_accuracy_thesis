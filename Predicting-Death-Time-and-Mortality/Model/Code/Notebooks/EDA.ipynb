{
 "cells": [
  {
   "cell_type": "markdown",
   "metadata": {},
   "source": [
    "#  Exploratory Data Analysis\n",
    "\n",
    "This notebook presents the exploratory data analysis of the study population.\n",
    "\n",
    "* Part 1. Summary statistics of the original population\n",
    "* Part 2. Summary statistics of the study population\n",
    "* Part 3. Visualization of death time for in-hospital mortality"
   ]
  },
  {
   "cell_type": "code",
   "execution_count": 19,
   "metadata": {},
   "outputs": [
    {
     "name": "stdout",
     "output_type": "stream",
     "text": [
      "Requirement already satisfied: python-dotenv in /Library/Frameworks/Python.framework/Versions/3.11/lib/python3.11/site-packages (1.1.1)\n",
      "Requirement already satisfied: psycopg2-binary in /Library/Frameworks/Python.framework/Versions/3.11/lib/python3.11/site-packages (2.9.10)\n",
      "\n",
      "\u001b[1m[\u001b[0m\u001b[34;49mnotice\u001b[0m\u001b[1;39;49m]\u001b[0m\u001b[39;49m A new release of pip is available: \u001b[0m\u001b[31;49m23.2.1\u001b[0m\u001b[39;49m -> \u001b[0m\u001b[32;49m25.1.1\u001b[0m\n",
      "\u001b[1m[\u001b[0m\u001b[34;49mnotice\u001b[0m\u001b[1;39;49m]\u001b[0m\u001b[39;49m To update, run: \u001b[0m\u001b[32;49mpython3 -m pip install --upgrade pip\u001b[0m\n",
      "Note: you may need to restart the kernel to use updated packages.\n"
     ]
    }
   ],
   "source": [
    "%pip install python-dotenv psycopg2-binary\n",
    "\n",
    "from utils import connect_db\n",
    "import pandas as pd\n",
    "import matplotlib\n",
    "import matplotlib.pyplot as plt\n",
    "import matplotlib.ticker as ticker\n",
    "%matplotlib inline\n",
    "%config InlineBackend.figure_format = 'retina'"
   ]
  },
  {
   "cell_type": "code",
   "execution_count": 20,
   "metadata": {},
   "outputs": [
    {
     "name": "stdout",
     "output_type": "stream",
     "text": [
      "CWD: /Users/debduttaguharoy/Developer/Y2 - Master's Thesis/Usecases/Predicting-Death-Time-and-Mortality/Model/Code/Notebooks\n",
      "Env file exists? True\n"
     ]
    }
   ],
   "source": [
    "import os\n",
    "print(\"CWD:\", os.getcwd())\n",
    "print(\"Env file exists?\", os.path.exists(\".env\"))\n"
   ]
  },
  {
   "cell_type": "markdown",
   "metadata": {},
   "source": [
    "---\n",
    "## Part 1. Summary statistics of the original population\n",
    "\n",
    "The original dataset in MIMIC-III database consists of 61,532 distinct ICU stays of 46,520 unique patients."
   ]
  },
  {
   "cell_type": "code",
   "execution_count": 21,
   "metadata": {},
   "outputs": [
    {
     "name": "stderr",
     "output_type": "stream",
     "text": [
      "/Users/debduttaguharoy/Developer/Y2 - Master's Thesis/Usecases/Predicting-Death-Time-and-Mortality/Model/Code/Notebooks/utils.py:18: UserWarning: pandas only supports SQLAlchemy connectable (engine/connection) or database string URI or sqlite3 DBAPI2 connection. Other DBAPI2 objects are not tested. Please consider using SQLAlchemy.\n",
      "  result = pd.read_sql(query, con=con)\n"
     ]
    },
    {
     "name": "stdout",
     "output_type": "stream",
     "text": [
      "Number of distinct ICU stays:  61532\n",
      "Number of distinct patients:  46520\n"
     ]
    }
   ],
   "source": [
    "query = 'select * from icustays'\n",
    "icustays = connect_db(query)\n",
    "print('Number of distinct ICU stays: ', icustays.icustay_id.unique().shape[0])\n",
    "\n",
    "query = 'select * from patients'\n",
    "patients = connect_db(query)\n",
    "print('Number of distinct patients: ', patients.subject_id.unique().shape[0])"
   ]
  },
  {
   "cell_type": "markdown",
   "metadata": {},
   "source": [
    "---\n",
    "## Part 2. Summary statistics of the study population\n",
    "\n",
    "To form our study population, we have excluded ICU stays less than one hour to remove fuzziness in data due to unusual short stays and only consider adult patients with age between 16 and 89. The final study population covered 49,632 ICU stays of 36,343 patients. Please refer to `Code/Hive/mp_cohort.hql` for detailed construction of mp_cohort table."
   ]
  },
  {
   "cell_type": "code",
   "execution_count": 22,
   "metadata": {},
   "outputs": [
    {
     "name": "stdout",
     "output_type": "stream",
     "text": [
      "(60186, 25)\n"
     ]
    },
    {
     "data": {
      "text/html": [
       "<div>\n",
       "<style scoped>\n",
       "    .dataframe tbody tr th:only-of-type {\n",
       "        vertical-align: middle;\n",
       "    }\n",
       "\n",
       "    .dataframe tbody tr th {\n",
       "        vertical-align: top;\n",
       "    }\n",
       "\n",
       "    .dataframe thead th {\n",
       "        text-align: right;\n",
       "    }\n",
       "</style>\n",
       "<table border=\"1\" class=\"dataframe\">\n",
       "  <thead>\n",
       "    <tr style=\"text-align: right;\">\n",
       "      <th></th>\n",
       "      <th>subject_id</th>\n",
       "      <th>hadm_id</th>\n",
       "      <th>icustay_id</th>\n",
       "      <th>dbsource</th>\n",
       "      <th>intime</th>\n",
       "      <th>outtime</th>\n",
       "      <th>age</th>\n",
       "      <th>gender</th>\n",
       "      <th>ethnicity</th>\n",
       "      <th>admission_type</th>\n",
       "      <th>...</th>\n",
       "      <th>hosp_los</th>\n",
       "      <th>hosp_deathtime_hours</th>\n",
       "      <th>deathtime_hours</th>\n",
       "      <th>deadthtime_check</th>\n",
       "      <th>exclusion_adult</th>\n",
       "      <th>exclusion_valid_data</th>\n",
       "      <th>exclusion_short_stay_4hr</th>\n",
       "      <th>exclusion_short_stay_1hr</th>\n",
       "      <th>exclusion_organ_donor</th>\n",
       "      <th>excluded</th>\n",
       "    </tr>\n",
       "  </thead>\n",
       "  <tbody>\n",
       "    <tr>\n",
       "      <th>0</th>\n",
       "      <td>55973</td>\n",
       "      <td>152234</td>\n",
       "      <td>200001</td>\n",
       "      <td>metavision</td>\n",
       "      <td>2181-11-25 20:00:00</td>\n",
       "      <td>2181-11-28 20:00:00</td>\n",
       "      <td>61.0499</td>\n",
       "      <td>F</td>\n",
       "      <td>ASIAN - ASIAN INDIAN</td>\n",
       "      <td>EMERGENCY</td>\n",
       "      <td>...</td>\n",
       "      <td>15.901389</td>\n",
       "      <td>NaN</td>\n",
       "      <td>8764.0</td>\n",
       "      <td>NaT</td>\n",
       "      <td>0</td>\n",
       "      <td>0</td>\n",
       "      <td>0</td>\n",
       "      <td>0</td>\n",
       "      <td>0</td>\n",
       "      <td>0</td>\n",
       "    </tr>\n",
       "    <tr>\n",
       "      <th>1</th>\n",
       "      <td>27513</td>\n",
       "      <td>163557</td>\n",
       "      <td>200003</td>\n",
       "      <td>carevue</td>\n",
       "      <td>2199-08-02 20:00:00</td>\n",
       "      <td>2199-08-08 15:00:00</td>\n",
       "      <td>48.2940</td>\n",
       "      <td>M</td>\n",
       "      <td>WHITE</td>\n",
       "      <td>EMERGENCY</td>\n",
       "      <td>...</td>\n",
       "      <td>20.081944</td>\n",
       "      <td>NaN</td>\n",
       "      <td>1804.0</td>\n",
       "      <td>NaT</td>\n",
       "      <td>0</td>\n",
       "      <td>0</td>\n",
       "      <td>0</td>\n",
       "      <td>0</td>\n",
       "      <td>0</td>\n",
       "      <td>0</td>\n",
       "    </tr>\n",
       "    <tr>\n",
       "      <th>2</th>\n",
       "      <td>10950</td>\n",
       "      <td>189514</td>\n",
       "      <td>200006</td>\n",
       "      <td>carevue</td>\n",
       "      <td>2159-09-03 13:00:00</td>\n",
       "      <td>2159-09-04 17:00:00</td>\n",
       "      <td>54.0710</td>\n",
       "      <td>M</td>\n",
       "      <td>OTHER</td>\n",
       "      <td>EMERGENCY</td>\n",
       "      <td>...</td>\n",
       "      <td>2.304167</td>\n",
       "      <td>NaN</td>\n",
       "      <td>6083.0</td>\n",
       "      <td>NaT</td>\n",
       "      <td>0</td>\n",
       "      <td>0</td>\n",
       "      <td>0</td>\n",
       "      <td>0</td>\n",
       "      <td>0</td>\n",
       "      <td>0</td>\n",
       "    </tr>\n",
       "    <tr>\n",
       "      <th>3</th>\n",
       "      <td>20707</td>\n",
       "      <td>129310</td>\n",
       "      <td>200007</td>\n",
       "      <td>carevue</td>\n",
       "      <td>2109-02-17 12:00:00</td>\n",
       "      <td>2109-02-18 10:00:00</td>\n",
       "      <td>43.3439</td>\n",
       "      <td>M</td>\n",
       "      <td>WHITE</td>\n",
       "      <td>EMERGENCY</td>\n",
       "      <td>...</td>\n",
       "      <td>3.239583</td>\n",
       "      <td>NaN</td>\n",
       "      <td>NaN</td>\n",
       "      <td>NaT</td>\n",
       "      <td>0</td>\n",
       "      <td>0</td>\n",
       "      <td>0</td>\n",
       "      <td>0</td>\n",
       "      <td>0</td>\n",
       "      <td>0</td>\n",
       "    </tr>\n",
       "    <tr>\n",
       "      <th>4</th>\n",
       "      <td>29904</td>\n",
       "      <td>129607</td>\n",
       "      <td>200009</td>\n",
       "      <td>carevue</td>\n",
       "      <td>2189-11-30 19:00:00</td>\n",
       "      <td>2189-12-02 13:00:00</td>\n",
       "      <td>47.5548</td>\n",
       "      <td>F</td>\n",
       "      <td>WHITE</td>\n",
       "      <td>ELECTIVE</td>\n",
       "      <td>...</td>\n",
       "      <td>6.177083</td>\n",
       "      <td>NaN</td>\n",
       "      <td>NaN</td>\n",
       "      <td>NaT</td>\n",
       "      <td>0</td>\n",
       "      <td>0</td>\n",
       "      <td>0</td>\n",
       "      <td>0</td>\n",
       "      <td>0</td>\n",
       "      <td>0</td>\n",
       "    </tr>\n",
       "  </tbody>\n",
       "</table>\n",
       "<p>5 rows × 25 columns</p>\n",
       "</div>"
      ],
      "text/plain": [
       "   subject_id  hadm_id  icustay_id    dbsource              intime  \\\n",
       "0       55973   152234      200001  metavision 2181-11-25 20:00:00   \n",
       "1       27513   163557      200003     carevue 2199-08-02 20:00:00   \n",
       "2       10950   189514      200006     carevue 2159-09-03 13:00:00   \n",
       "3       20707   129310      200007     carevue 2109-02-17 12:00:00   \n",
       "4       29904   129607      200009     carevue 2189-11-30 19:00:00   \n",
       "\n",
       "              outtime      age gender             ethnicity admission_type  \\\n",
       "0 2181-11-28 20:00:00  61.0499      F  ASIAN - ASIAN INDIAN      EMERGENCY   \n",
       "1 2199-08-08 15:00:00  48.2940      M                 WHITE      EMERGENCY   \n",
       "2 2159-09-04 17:00:00  54.0710      M                 OTHER      EMERGENCY   \n",
       "3 2109-02-18 10:00:00  43.3439      M                 WHITE      EMERGENCY   \n",
       "4 2189-12-02 13:00:00  47.5548      F                 WHITE       ELECTIVE   \n",
       "\n",
       "   ...   hosp_los  hosp_deathtime_hours  deathtime_hours  deadthtime_check  \\\n",
       "0  ...  15.901389                   NaN           8764.0               NaT   \n",
       "1  ...  20.081944                   NaN           1804.0               NaT   \n",
       "2  ...   2.304167                   NaN           6083.0               NaT   \n",
       "3  ...   3.239583                   NaN              NaN               NaT   \n",
       "4  ...   6.177083                   NaN              NaN               NaT   \n",
       "\n",
       "   exclusion_adult  exclusion_valid_data  exclusion_short_stay_4hr  \\\n",
       "0                0                     0                         0   \n",
       "1                0                     0                         0   \n",
       "2                0                     0                         0   \n",
       "3                0                     0                         0   \n",
       "4                0                     0                         0   \n",
       "\n",
       "   exclusion_short_stay_1hr exclusion_organ_donor  excluded  \n",
       "0                         0                     0         0  \n",
       "1                         0                     0         0  \n",
       "2                         0                     0         0  \n",
       "3                         0                     0         0  \n",
       "4                         0                     0         0  \n",
       "\n",
       "[5 rows x 25 columns]"
      ]
     },
     "execution_count": 22,
     "metadata": {},
     "output_type": "execute_result"
    }
   ],
   "source": [
    "query = \"\"\"select * from mp_cohort\"\"\"\n",
    "cohort = connect_db(query)\n",
    "print(cohort.shape)\n",
    "cohort.head()"
   ]
  },
  {
   "cell_type": "code",
   "execution_count": 23,
   "metadata": {},
   "outputs": [
    {
     "name": "stdout",
     "output_type": "stream",
     "text": [
      "Number of distinct ICU stays:  49632\n",
      "Number of distinct patients:  36343\n"
     ]
    }
   ],
   "source": [
    "# study population after filtering\n",
    "study_cohort = cohort[cohort.excluded==0] \n",
    "print('Number of distinct ICU stays: ', study_cohort.icustay_id.unique().shape[0])\n",
    "print('Number of distinct patients: ', study_cohort.subject_id.unique().shape[0])"
   ]
  },
  {
   "cell_type": "markdown",
   "metadata": {},
   "source": [
    "Once we we defined the study population, let us examine some of the features of the study population :\n",
    "* age\n",
    "* enthnicity\n",
    "* admission type\n",
    "* number of ICU stays\n",
    "* in-hospital mortality"
   ]
  },
  {
   "cell_type": "code",
   "execution_count": 24,
   "metadata": {},
   "outputs": [
    {
     "data": {
      "text/html": [
       "<div>\n",
       "<style scoped>\n",
       "    .dataframe tbody tr th:only-of-type {\n",
       "        vertical-align: middle;\n",
       "    }\n",
       "\n",
       "    .dataframe tbody tr th {\n",
       "        vertical-align: top;\n",
       "    }\n",
       "\n",
       "    .dataframe thead th {\n",
       "        text-align: right;\n",
       "    }\n",
       "</style>\n",
       "<table border=\"1\" class=\"dataframe\">\n",
       "  <thead>\n",
       "    <tr style=\"text-align: right;\">\n",
       "      <th></th>\n",
       "      <th>age</th>\n",
       "    </tr>\n",
       "  </thead>\n",
       "  <tbody>\n",
       "    <tr>\n",
       "      <th>count</th>\n",
       "      <td>36343.000000</td>\n",
       "    </tr>\n",
       "    <tr>\n",
       "      <th>mean</th>\n",
       "      <td>62.610401</td>\n",
       "    </tr>\n",
       "    <tr>\n",
       "      <th>std</th>\n",
       "      <td>16.931520</td>\n",
       "    </tr>\n",
       "    <tr>\n",
       "      <th>min</th>\n",
       "      <td>16.014000</td>\n",
       "    </tr>\n",
       "    <tr>\n",
       "      <th>25%</th>\n",
       "      <td>51.858800</td>\n",
       "    </tr>\n",
       "    <tr>\n",
       "      <th>50%</th>\n",
       "      <td>64.674900</td>\n",
       "    </tr>\n",
       "    <tr>\n",
       "      <th>75%</th>\n",
       "      <td>76.505400</td>\n",
       "    </tr>\n",
       "    <tr>\n",
       "      <th>max</th>\n",
       "      <td>88.998500</td>\n",
       "    </tr>\n",
       "  </tbody>\n",
       "</table>\n",
       "</div>"
      ],
      "text/plain": [
       "                age\n",
       "count  36343.000000\n",
       "mean      62.610401\n",
       "std       16.931520\n",
       "min       16.014000\n",
       "25%       51.858800\n",
       "50%       64.674900\n",
       "75%       76.505400\n",
       "max       88.998500"
      ]
     },
     "execution_count": 24,
     "metadata": {},
     "output_type": "execute_result"
    }
   ],
   "source": [
    "# age distribution\n",
    "study_cohort[['subject_id','age']].groupby('subject_id').max().describe()"
   ]
  },
  {
   "cell_type": "code",
   "execution_count": 25,
   "metadata": {},
   "outputs": [
    {
     "name": "stdout",
     "output_type": "stream",
     "text": [
      "Gender ratio (male:all):  0.5778554329582037\n",
      "Gender distribution:\n",
      " gender\n",
      "M    21001\n",
      "F    15342\n",
      "Name: count, dtype: int64\n"
     ]
    },
    {
     "name": "stderr",
     "output_type": "stream",
     "text": [
      "/var/folders/qd/hxnw7jb56lb72yft16bm17c40000gn/T/ipykernel_48000/3350918701.py:3: FutureWarning: Series.__getitem__ treating keys as positions is deprecated. In a future version, integer keys will always be treated as labels (consistent with DataFrame behavior). To access a value by position, use `ser.iloc[pos]`\n",
      "  print('Gender ratio (male:all): ', gender_dist[0]/gender_dist.sum())\n"
     ]
    }
   ],
   "source": [
    "# gender distribution\n",
    "gender_dist = study_cohort[['subject_id','gender']].groupby('subject_id').max().gender.value_counts()\n",
    "print('Gender ratio (male:all): ', gender_dist[0]/gender_dist.sum())\n",
    "print('Gender distribution:\\n',gender_dist)"
   ]
  },
  {
   "cell_type": "code",
   "execution_count": 26,
   "metadata": {},
   "outputs": [
    {
     "name": "stdout",
     "output_type": "stream",
     "text": [
      "White (top 5 approximation):  0.9206724816333269\n",
      "Top 5 ethnicity:\n",
      " ethnicity\n",
      "WHITE                     25577\n",
      "UNKNOWN/NOT SPECIFIED      3497\n",
      "BLACK/AFRICAN AMERICAN     2594\n",
      "HISPANIC OR LATINO          939\n",
      "OTHER                       853\n",
      "Name: count, dtype: int64\n"
     ]
    }
   ],
   "source": [
    "# ethnicity distribution\n",
    "ethnicity_dist = study_cohort[['subject_id','ethnicity']].groupby('subject_id').max().ethnicity.value_counts()\n",
    "#white = sum([ethnicity_dist[0], ethnicity_dist[11], ethnicity_dist[14], ethnicity_dist[17], ethnicity_dist[23]])\n",
    "white = ethnicity_dist.iloc[:5].sum()\n",
    "#print('White: ', white/ethnicity_dist.sum())\n",
    "#print('Top 5 ethnicity:\\n', ethnicity_dist[:5] )\n",
    "print('White (top 5 approximation): ', white / ethnicity_dist.sum())\n",
    "print('Top 5 ethnicity:\\n', ethnicity_dist.iloc[:5])"
   ]
  },
  {
   "cell_type": "code",
   "execution_count": 27,
   "metadata": {},
   "outputs": [
    {
     "name": "stdout",
     "output_type": "stream",
     "text": [
      "Emergency:  0.8231296260627906\n",
      "All admission types:\n",
      " admission_type\n",
      "EMERGENCY    29915\n",
      "ELECTIVE      5267\n",
      "URGENT        1161\n",
      "Name: count, dtype: int64\n"
     ]
    },
    {
     "name": "stderr",
     "output_type": "stream",
     "text": [
      "/var/folders/qd/hxnw7jb56lb72yft16bm17c40000gn/T/ipykernel_48000/441043326.py:3: FutureWarning: Series.__getitem__ treating keys as positions is deprecated. In a future version, integer keys will always be treated as labels (consistent with DataFrame behavior). To access a value by position, use `ser.iloc[pos]`\n",
      "  print('Emergency: ', admissiontype_dist[0]/admissiontype_dist.sum())\n"
     ]
    }
   ],
   "source": [
    "# admission type\n",
    "admissiontype_dist = study_cohort[['subject_id','admission_type']].groupby('subject_id').max().admission_type.value_counts()\n",
    "print('Emergency: ', admissiontype_dist[0]/admissiontype_dist.sum())\n",
    "print('All admission types:\\n',admissiontype_dist)"
   ]
  },
  {
   "cell_type": "code",
   "execution_count": 28,
   "metadata": {},
   "outputs": [
    {
     "data": {
      "text/html": [
       "<div>\n",
       "<style scoped>\n",
       "    .dataframe tbody tr th:only-of-type {\n",
       "        vertical-align: middle;\n",
       "    }\n",
       "\n",
       "    .dataframe tbody tr th {\n",
       "        vertical-align: top;\n",
       "    }\n",
       "\n",
       "    .dataframe thead th {\n",
       "        text-align: right;\n",
       "    }\n",
       "</style>\n",
       "<table border=\"1\" class=\"dataframe\">\n",
       "  <thead>\n",
       "    <tr style=\"text-align: right;\">\n",
       "      <th></th>\n",
       "      <th>icustay_num</th>\n",
       "    </tr>\n",
       "  </thead>\n",
       "  <tbody>\n",
       "    <tr>\n",
       "      <th>count</th>\n",
       "      <td>36343.000000</td>\n",
       "    </tr>\n",
       "    <tr>\n",
       "      <th>mean</th>\n",
       "      <td>1.365875</td>\n",
       "    </tr>\n",
       "    <tr>\n",
       "      <th>std</th>\n",
       "      <td>1.060728</td>\n",
       "    </tr>\n",
       "    <tr>\n",
       "      <th>min</th>\n",
       "      <td>1.000000</td>\n",
       "    </tr>\n",
       "    <tr>\n",
       "      <th>25%</th>\n",
       "      <td>1.000000</td>\n",
       "    </tr>\n",
       "    <tr>\n",
       "      <th>50%</th>\n",
       "      <td>1.000000</td>\n",
       "    </tr>\n",
       "    <tr>\n",
       "      <th>75%</th>\n",
       "      <td>1.000000</td>\n",
       "    </tr>\n",
       "    <tr>\n",
       "      <th>max</th>\n",
       "      <td>41.000000</td>\n",
       "    </tr>\n",
       "  </tbody>\n",
       "</table>\n",
       "</div>"
      ],
      "text/plain": [
       "        icustay_num\n",
       "count  36343.000000\n",
       "mean       1.365875\n",
       "std        1.060728\n",
       "min        1.000000\n",
       "25%        1.000000\n",
       "50%        1.000000\n",
       "75%        1.000000\n",
       "max       41.000000"
      ]
     },
     "execution_count": 28,
     "metadata": {},
     "output_type": "execute_result"
    }
   ],
   "source": [
    "# num of ICU stays\n",
    "study_cohort[['subject_id','icustay_num']].groupby('subject_id').max().describe()"
   ]
  },
  {
   "cell_type": "markdown",
   "metadata": {},
   "source": [
    "Note that `hospital_expire_flag=1` indicates in-hospital mortality. In Phase 1 of our model framework, we will predict this moratlity label by training a binary classifier on the study population."
   ]
  },
  {
   "cell_type": "code",
   "execution_count": 29,
   "metadata": {},
   "outputs": [
    {
     "name": "stdout",
     "output_type": "stream",
     "text": [
      "In-hospital mortality ratio: 0.11617504835589942\n",
      "In-hospital mortality distribution:\n",
      " hospital_expire_flag\n",
      "0    43866\n",
      "1     5766\n",
      "Name: count, dtype: int64\n"
     ]
    }
   ],
   "source": [
    "# in-hospital mortality ratio\n",
    "mortality_dist = study_cohort.hospital_expire_flag.value_counts()\n",
    "print('In-hospital mortality ratio:' , mortality_dist[1]/mortality_dist.sum())\n",
    "print('In-hospital mortality distribution:\\n', mortality_dist)"
   ]
  },
  {
   "cell_type": "markdown",
   "metadata": {},
   "source": [
    "---\n",
    "## Part 3: Visualization of death time for in-hospital mortality\n",
    "Note that `hosp_deathtime_hours` is the death time in hours since ICU admission for in-hospital mortality.  In Phase 2 of our model framework, we will predict the multiclass label of this variable by training a mulitclass classifier on the dead patients in our study population."
   ]
  },
  {
   "cell_type": "code",
   "execution_count": 30,
   "metadata": {},
   "outputs": [
    {
     "name": "stdout",
     "output_type": "stream",
     "text": [
      "Num of in-hospital mortality:  5766\n"
     ]
    }
   ],
   "source": [
    "print('Num of in-hospital mortality: ', study_cohort[study_cohort.hospital_expire_flag==1].shape[0])"
   ]
  },
  {
   "cell_type": "code",
   "execution_count": 31,
   "metadata": {},
   "outputs": [
    {
     "name": "stdout",
     "output_type": "stream",
     "text": [
      "Num of in-hospital mortality (negative death time filtered out):  5718\n"
     ]
    }
   ],
   "source": [
    "# filter out ICU stays with negative death time \n",
    "# which is likely an administrative error resulting in an incorrect ICU admission or incorrect death time\n",
    "dead_patients = study_cohort[(study_cohort.hospital_expire_flag==1) & (study_cohort.hosp_deathtime_hours>=0)]\n",
    "print('Num of in-hospital mortality (negative death time filtered out): ', dead_patients.shape[0])\n",
    "# right after you load cohort:\n",
    "#deaths = cohort[cohort.hospital_expire_flag==1]\n",
    "#print(deaths.hosp_deathtime_hours.describe())\n",
    "# maybe peek at the first few\n",
    "#print(deaths.hosp_deathtime_hours)"
   ]
  },
  {
   "cell_type": "markdown",
   "metadata": {},
   "source": [
    "After filtering out the ICU stays with negative death time since ICU admission, 5,718 in-hospital mortality were resulted."
   ]
  },
  {
   "cell_type": "code",
   "execution_count": 32,
   "metadata": {},
   "outputs": [
    {
     "data": {
      "text/plain": [
       "count    5718.000000\n",
       "mean      229.589367\n",
       "std       312.152607\n",
       "min         0.000000\n",
       "25%        45.000000\n",
       "50%       129.500000\n",
       "75%       290.000000\n",
       "max      4953.000000\n",
       "Name: hosp_deathtime_hours, dtype: float64"
      ]
     },
     "execution_count": 32,
     "metadata": {},
     "output_type": "execute_result"
    }
   ],
   "source": [
    "# death time distribution among dead patients (in hours)\n",
    "dead_patients.hosp_deathtime_hours.describe()"
   ]
  },
  {
   "cell_type": "markdown",
   "metadata": {},
   "source": [
    "The average death time since ICU admission is 9.57 days, maximum death time is 206.38 days and minimum death time is 0 day."
   ]
  },
  {
   "cell_type": "code",
   "execution_count": 33,
   "metadata": {},
   "outputs": [
    {
     "data": {
      "text/plain": [
       "count    238.250000\n",
       "mean       9.566224\n",
       "std       13.006359\n",
       "min        0.000000\n",
       "25%        1.875000\n",
       "50%        5.395833\n",
       "75%       12.083333\n",
       "max      206.375000\n",
       "Name: hosp_deathtime_hours, dtype: float64"
      ]
     },
     "execution_count": 33,
     "metadata": {},
     "output_type": "execute_result"
    }
   ],
   "source": [
    "# death time distribution among dead patients (in days)\n",
    "dead_patients.hosp_deathtime_hours.describe()/24"
   ]
  },
  {
   "cell_type": "markdown",
   "metadata": {},
   "source": [
    "The box plot below shows the distribution of death time in hours since ICU admission for in-hospital mortality."
   ]
  },
  {
   "cell_type": "code",
   "execution_count": 34,
   "metadata": {},
   "outputs": [
    {
     "data": {
      "image/png": "[encoded data removed]",
      "text/plain": [
       "<Figure size 1000x800 with 1 Axes>"
      ]
     },
     "metadata": {
      "image/png": {
       "height": 667,
       "width": 861
      }
     },
     "output_type": "display_data"
    }
   ],
   "source": [
    "# Box plot of death time in hours since ICU admission\n",
    "matplotlib.rcParams.update({'font.size': 16})\n",
    "fig = plt.figure()\n",
    "fig.set_size_inches(10,8)\n",
    "plt.boxplot(dead_patients.hosp_deathtime_hours.tolist())\n",
    "fig.savefig('../Images/figure1.png')\n",
    "plt.show()"
   ]
  },
  {
   "cell_type": "markdown",
   "metadata": {},
   "source": [
    "The histogram below shows a zoom-in picture (truncated to up 100 days) for the distribution of death time in days since ICU admission for in-hospital mortality."
   ]
  },
  {
   "cell_type": "code",
   "execution_count": 35,
   "metadata": {},
   "outputs": [
    {
     "data": {
      "image/png": "[encoded data removed]",
      "text/plain": [
       "<Figure size 1500x600 with 1 Axes>"
      ]
     },
     "metadata": {
      "image/png": {
       "height": 551,
       "width": 1254
      }
     },
     "output_type": "display_data"
    }
   ],
   "source": [
    "# Histogram of death time in days since ICU admission\n",
    "plt.style.use('ggplot')\n",
    "fig = plt.figure()\n",
    "fig.set_size_inches(15,6)\n",
    "ax = plt.axes()\n",
    "ax.set_xlim(0, 100)\n",
    "ax.xaxis.set_major_locator(ticker.MultipleLocator(10))\n",
    "ax.xaxis.set_minor_locator(ticker.MultipleLocator(1))\n",
    "\n",
    "data = (dead_patients[['icustay_id','hosp_deathtime_hours']]/24).astype(int)\n",
    "data = data.groupby('hosp_deathtime_hours').size()\n",
    "plt.bar(data.index, data, align='center')\n",
    "plt.xlabel('Death time in days')\n",
    "plt.ylabel('Count')\n",
    "plt.title('Death time in days for in-hospital mortality (truncated to 100 days)')\n",
    "\n",
    "plt.show()"
   ]
  },
  {
   "cell_type": "markdown",
   "metadata": {},
   "source": [
    "Since we will predict the multiclass label of death time in hours since ICU admission in Phase 2, we want to look at the class label distribution as well. Specifically, we define the labels as follows:\n",
    "\n",
    "* Class 0 : death time < 1 day\n",
    "* Class 1 : 1 day <= death time < 1 week\n",
    "* Class 2 : death time >= 1 week"
   ]
  },
  {
   "cell_type": "code",
   "execution_count": 36,
   "metadata": {},
   "outputs": [
    {
     "name": "stdout",
     "output_type": "stream",
     "text": [
      "Cutoff hours:  24 hours and 168 hours\n",
      "Class 0 size 838\n",
      "Class 1 size 2517\n",
      "Class 2 size 2363\n"
     ]
    }
   ],
   "source": [
    "# class label distribution of death time in hours\n",
    "cutoff1 = 24\n",
    "cutoff2 = 24*7\n",
    "print('Cutoff hours: ', cutoff1, 'hours and', cutoff2, 'hours')\n",
    "print('Class 0 size', len([x for x in dead_patients.hosp_deathtime_hours.tolist() if x < cutoff1]))\n",
    "print('Class 1 size', len([x for x in dead_patients.hosp_deathtime_hours.tolist() if cutoff1 <= x < cutoff2]))\n",
    "print('Class 2 size', len([x for x in dead_patients.hosp_deathtime_hours.tolist() if x >= cutoff2]))"
   ]
  },
  {
   "cell_type": "code",
   "execution_count": null,
   "metadata": {},
   "outputs": [],
   "source": []
  }
 ],
 "metadata": {
  "kernelspec": {
   "display_name": "Python 3",
   "language": "python",
   "name": "python3"
  },
  "language_info": {
   "codemirror_mode": {
    "name": "ipython",
    "version": 3
   },
   "file_extension": ".py",
   "mimetype": "text/x-python",
   "name": "python",
   "nbconvert_exporter": "python",
   "pygments_lexer": "ipython3",
   "version": "3.11.6"
  }
 },
 "nbformat": 4,
 "nbformat_minor": 2
}
