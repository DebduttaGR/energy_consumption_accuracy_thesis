{
  "cells": [
    {
      "cell_type": "code",
      "execution_count": 0,
      "metadata": {
        "colab": {},
        "colab_type": "code",
        "id": "hEhyFCA9iN2n"
      },
      "outputs": [],
      "source": [
        "from warnings import simplefilter\n",
        "\n",
        "simplefilter(action='ignore', category=FutureWarning)"
      ]
    },
    {
      "cell_type": "code",
      "execution_count": 0,
      "metadata": {
        "colab": {},
        "colab_type": "code",
        "id": "zPzm3--fiSar"
      },
      "outputs": [],
      "source": [
        "!pip install -U -q PyDrive\n",
        "from pydrive.auth import GoogleAuth\n",
        "from pydrive.drive import GoogleDrive\n",
        "from google.colab import auth\n",
        "from oauth2client.client import GoogleCredentials"
      ]
    },
    {
      "cell_type": "code",
      "execution_count": 0,
      "metadata": {
        "colab": {},
        "colab_type": "code",
        "id": "Rim5w3d8iSdF"
      },
      "outputs": [],
      "source": [
        "import numpy as np\n",
        "import pandas as pd\n",
        "import matplotlib as mpl\n",
        "import matplotlib.pyplot as plt\n",
        "import pickle as pkl\n",
        "import math\n",
        "import csv\n",
        "import sklearn\n",
        "from sklearn.model_selection import train_test_split\n",
        "from sklearn import metrics\n",
        "from sklearn import preprocessing\n",
        "from sklearn.metrics import classification_report\n",
        "from sklearn.ensemble import ExtraTreesClassifier\n",
        "from imblearn.over_sampling import RandomOverSampler\n",
        "from imblearn.over_sampling import SMOTE \n",
        "from imblearn.under_sampling import RandomUnderSampler\n",
        "from imblearn.under_sampling import NearMiss\n",
        "from collections import Counter"
      ]
    },
    {
      "cell_type": "code",
      "execution_count": null,
      "metadata": {},
      "outputs": [],
      "source": [
        "#flight_data = pd.read_csv(r'C:\\Users\\badri\\Desktop\\ML-Project\\Flight Data\\Flight_Data.csv')\n",
        "from pathlib import Path\n",
        "\n",
        "# 1) Define your project root (where you launched the script / notebook)\n",
        "BASE_DIR = Path().resolve()      # or: Path(__file__).parent if in a .py module\n",
        "\n",
        "# 2) Point at your data folder\n",
        "DATA_DIR = BASE_DIR / 'data'\n",
        "\n",
        "# 3) Build each file’s path dynamically\n",
        "flight_csv   = DATA_DIR / 'filtered_flights.csv'\n",
        "weather_csv  = DATA_DIR / 'Weather' / 'Weather_Data.csv'\n",
        "final_csv   = DATA_DIR / 'Flight_Weather.csv'\n",
        "\n",
        "# 4) Read them with pandas\n",
        "flight_data  = pd.read_csv(flight_csv)\n",
        "weather_data = pd.read_csv(weather_csv)\n",
        "flight_weather_data = pd.read_csv(final_csv)"
      ]
    },
    {
      "cell_type": "code",
      "execution_count": 0,
      "metadata": {
        "colab": {},
        "colab_type": "code",
        "id": "JZwdK6FoiSf_"
      },
      "outputs": [],
      "source": [
        "link = 'https://drive.google.com/open?id=17DbBIxtBcBM9Q4MWbeF46ml8WNv_ATKl'\n",
        "\n",
        "fluff, id = link.split('=')"
      ]
    },
    {
      "cell_type": "code",
      "execution_count": 0,
      "metadata": {
        "colab": {},
        "colab_type": "code",
        "id": "n-Xm4a5xiSn6"
      },
      "outputs": [],
      "source": [
        "auth.authenticate_user()\n",
        "gauth = GoogleAuth()\n",
        "gauth.credentials = GoogleCredentials.get_application_default()\n",
        "drive = GoogleDrive(gauth)"
      ]
    },
    {
      "cell_type": "code",
      "execution_count": 0,
      "metadata": {
        "colab": {},
        "colab_type": "code",
        "id": "ngYfwZc-iSqn"
      },
      "outputs": [],
      "source": [
        "downloaded = drive.CreateFile({'id':id}) \n",
        "\n",
        "downloaded.GetContentFile('Flight_Weather.csv')\n",
        "\n",
        "dataframe = pd.read_csv('Flight_Weather.csv')"
      ]
    },
    {
      "cell_type": "code",
      "execution_count": 0,
      "metadata": {
        "colab": {},
        "colab_type": "code",
        "id": "u_zgdig4wI_u"
      },
      "outputs": [],
      "source": [
        "data_label_encoder = preprocessing.LabelEncoder()\n",
        "\n",
        "encoded_list = data_label_encoder.fit_transform(dataframe['Airport'])\n",
        "\n",
        "dataframe['EncodedAirport'] = encoded_list"
      ]
    },
    {
      "cell_type": "code",
      "execution_count": 0,
      "metadata": {
        "colab": {},
        "colab_type": "code",
        "id": "nxjldxydiSvn"
      },
      "outputs": [],
      "source": [
        "y = dataframe['ArrDel15']\n",
        "\n",
        "dataframe = dataframe.drop(['ArrDel15','FlightDate','Date','Airport','ArrDelayMinutes'],axis = 1)\n",
        "\n",
        "X = dataframe"
      ]
    },
    {
      "cell_type": "code",
      "execution_count": 0,
      "metadata": {
        "colab": {},
        "colab_type": "code",
        "id": "EzJnb1MOiS1K"
      },
      "outputs": [],
      "source": [
        "X_train, X_test, y_train, y_test = train_test_split(X, y, test_size = 0.25)"
      ]
    },
    {
      "cell_type": "code",
      "execution_count": 10,
      "metadata": {
        "colab": {
          "base_uri": "https://localhost:8080/",
          "height": 68
        },
        "colab_type": "code",
        "id": "oHmhHw0piS4E",
        "outputId": "ebc5327a-77c2-4ac9-d688-47299b9804b6"
      },
      "outputs": [
        {
          "name": "stdout",
          "output_type": "stream",
          "text": [
            " Original DataSet Shape :  Counter({0.0: 1097424, 1.0: 291150})\n",
            " RandomOverSampled DataSet Shape :  Counter({1.0: 1097424, 0.0: 1097424})\n",
            " SMOTE DataSet Shape :  Counter({1.0: 1097424, 0.0: 1097424})\n"
          ]
        }
      ],
      "source": [
        "print(\" Original DataSet Shape : \",Counter(y_train))\n",
        "\n",
        "ros = RandomOverSampler(random_state = 42)\n",
        "\n",
        "X_ros, y_ros = ros.fit_resample(X_train, y_train)\n",
        "\n",
        "print(\" RandomOverSampled DataSet Shape : \",Counter(y_ros))\n",
        "\n",
        "smote = SMOTE(random_state = 42)\n",
        "\n",
        "X_smote, y_smote = smote.fit_resample(X_train, y_train)\n",
        "\n",
        "print(\" SMOTE DataSet Shape : \",Counter(y_smote))"
      ]
    },
    {
      "cell_type": "code",
      "execution_count": 11,
      "metadata": {
        "colab": {
          "base_uri": "https://localhost:8080/",
          "height": 68
        },
        "colab_type": "code",
        "id": "MSA6X22MihMw",
        "outputId": "1d160318-1fc9-4b9c-8709-cca4e0b26be8"
      },
      "outputs": [
        {
          "name": "stdout",
          "output_type": "stream",
          "text": [
            " Original DataSet Shape :  Counter({0.0: 1097424, 1.0: 291150})\n",
            " RandomUnderampled DataSet Shape :  Counter({0.0: 291150, 1.0: 291150})\n",
            " NearMiss DataSet Shape :  Counter({0.0: 291150, 1.0: 291150})\n"
          ]
        }
      ],
      "source": [
        "print(\" Original DataSet Shape : \",Counter(y_train))\n",
        "\n",
        "rus = RandomUnderSampler(random_state = 42)\n",
        "\n",
        "X_rus, y_rus = rus.fit_resample(X_train,y_train)\n",
        "\n",
        "print(\" RandomUnderampled DataSet Shape : \",Counter(y_rus))\n",
        "\n",
        "nm = NearMiss()\n",
        "\n",
        "X_nm, y_nm = nm.fit_resample(X_train, y_train)\n",
        "\n",
        "print(\" NearMiss DataSet Shape : \",Counter(y_nm))"
      ]
    },
    {
      "cell_type": "code",
      "execution_count": 0,
      "metadata": {
        "colab": {},
        "colab_type": "code",
        "id": "SnWKRYtwihP6"
      },
      "outputs": [],
      "source": [
        "clf = ExtraTreesClassifier(n_estimators = 100)"
      ]
    },
    {
      "cell_type": "code",
      "execution_count": 13,
      "metadata": {
        "colab": {
          "base_uri": "https://localhost:8080/",
          "height": 237
        },
        "colab_type": "code",
        "id": "9sHRFe_t_5UP",
        "outputId": "9cbc8fac-6e15-4b1d-baa1-6841a4101c30"
      },
      "outputs": [
        {
          "name": "stdout",
          "output_type": "stream",
          "text": [
            " Classification Report \n",
            "\n",
            "\n",
            "\n",
            "              precision    recall  f1-score   support\n",
            "\n",
            "         0.0       0.94      0.97      0.95    365951\n",
            "         1.0       0.87      0.75      0.81     96908\n",
            "\n",
            "    accuracy                           0.93    462859\n",
            "   macro avg       0.90      0.86      0.88    462859\n",
            "weighted avg       0.92      0.93      0.92    462859\n",
            "\n"
          ]
        }
      ],
      "source": [
        "clf.fit(X_train,y_train)\n",
        "\n",
        "y_pred = clf.predict(X_test)\n",
        "\n",
        "filename = \"ETC_Normal.pkl\"\n",
        "\n",
        "pkl.dump(clf,open(filename,'wb'))\n",
        "\n",
        "print(\" Classification Report \")\n",
        "\n",
        "print(\"\\n\\n\")\n",
        "\n",
        "print(metrics.classification_report(y_test,y_pred))"
      ]
    },
    {
      "cell_type": "code",
      "execution_count": 14,
      "metadata": {
        "colab": {
          "base_uri": "https://localhost:8080/",
          "height": 237
        },
        "colab_type": "code",
        "id": "gwzXh0i0ihTC",
        "outputId": "4a4a408b-8c42-4010-fd9e-51ae79c5b6d7"
      },
      "outputs": [
        {
          "name": "stdout",
          "output_type": "stream",
          "text": [
            " Classification Report \n",
            "\n",
            "\n",
            "\n",
            "              precision    recall  f1-score   support\n",
            "\n",
            "         0.0       0.94      0.97      0.95    365951\n",
            "         1.0       0.88      0.75      0.81     96908\n",
            "\n",
            "    accuracy                           0.92    462859\n",
            "   macro avg       0.91      0.86      0.88    462859\n",
            "weighted avg       0.92      0.92      0.92    462859\n",
            "\n"
          ]
        }
      ],
      "source": [
        "clf.fit(X_ros,y_ros)\n",
        "\n",
        "y_pred_ros = clf.predict(X_test)\n",
        "\n",
        "filename = \"ETC_ROS.pkl\"\n",
        "\n",
        "pkl.dump(clf,open(filename,'wb'))\n",
        "\n",
        "print(\" Classification Report \")\n",
        "\n",
        "print(\"\\n\\n\")\n",
        "\n",
        "print(metrics.classification_report(y_test,y_pred_ros))"
      ]
    },
    {
      "cell_type": "code",
      "execution_count": 15,
      "metadata": {
        "colab": {
          "base_uri": "https://localhost:8080/",
          "height": 237
        },
        "colab_type": "code",
        "id": "vcgjZMGuiSy-",
        "outputId": "2544f703-df9a-408e-9126-312e91db7ff9"
      },
      "outputs": [
        {
          "name": "stdout",
          "output_type": "stream",
          "text": [
            " Classification Report\n",
            "\n",
            "\n",
            "\n",
            "              precision    recall  f1-score   support\n",
            "\n",
            "         0.0       0.94      0.96      0.95    365951\n",
            "         1.0       0.83      0.76      0.80     96908\n",
            "\n",
            "    accuracy                           0.92    462859\n",
            "   macro avg       0.89      0.86      0.87    462859\n",
            "weighted avg       0.92      0.92      0.92    462859\n",
            "\n"
          ]
        }
      ],
      "source": [
        "clf.fit(X_smote,y_smote)\n",
        "\n",
        "y_pred_smote = clf.predict(X_test)\n",
        "\n",
        "filename = \"ETC_SMOTE.pkl\"\n",
        "\n",
        "pkl.dump(clf,open(filename,'wb'))\n",
        "\n",
        "print(\" Classification Report\")\n",
        "\n",
        "print(\"\\n\\n\")\n",
        "\n",
        "print(metrics.classification_report(y_test,y_pred_smote))"
      ]
    },
    {
      "cell_type": "code",
      "execution_count": 16,
      "metadata": {
        "colab": {
          "base_uri": "https://localhost:8080/",
          "height": 237
        },
        "colab_type": "code",
        "id": "xvuaGy1kiStr",
        "outputId": "1c5ad1ef-1c67-41ea-d6c2-63cc4b73522f"
      },
      "outputs": [
        {
          "name": "stdout",
          "output_type": "stream",
          "text": [
            " Classification Report\n",
            "\n",
            "\n",
            "\n",
            "              precision    recall  f1-score   support\n",
            "\n",
            "         0.0       0.96      0.92      0.94    365951\n",
            "         1.0       0.73      0.84      0.78     96908\n",
            "\n",
            "    accuracy                           0.90    462859\n",
            "   macro avg       0.84      0.88      0.86    462859\n",
            "weighted avg       0.91      0.90      0.90    462859\n",
            "\n"
          ]
        }
      ],
      "source": [
        "clf.fit(X_rus,y_rus)\n",
        "\n",
        "y_pred_rus = clf.predict(X_test)\n",
        "\n",
        "filename = \"ETC_RUS.pkl\"\n",
        "\n",
        "pkl.dump(clf,open(filename,'wb'))\n",
        "\n",
        "print(\" Classification Report\")\n",
        "\n",
        "print(\"\\n\\n\")\n",
        "\n",
        "print(metrics.classification_report(y_test,y_pred_rus))"
      ]
    },
    {
      "cell_type": "code",
      "execution_count": 17,
      "metadata": {
        "colab": {
          "base_uri": "https://localhost:8080/",
          "height": 237
        },
        "colab_type": "code",
        "id": "EoZ4NJeUiSkw",
        "outputId": "bbd24679-2b09-4779-873c-4637f8507323"
      },
      "outputs": [
        {
          "name": "stdout",
          "output_type": "stream",
          "text": [
            " Classification Report\n",
            "\n",
            "\n",
            "\n",
            "              precision    recall  f1-score   support\n",
            "\n",
            "         0.0       0.95      0.79      0.86    365951\n",
            "         1.0       0.52      0.84      0.64     96908\n",
            "\n",
            "    accuracy                           0.80    462859\n",
            "   macro avg       0.73      0.82      0.75    462859\n",
            "weighted avg       0.86      0.80      0.82    462859\n",
            "\n"
          ]
        }
      ],
      "source": [
        "clf.fit(X_nm,y_nm)\n",
        "\n",
        "y_pred_nm = clf.predict(X_test)\n",
        "\n",
        "filename = \"ETC_NM.pkl\"\n",
        "\n",
        "pkl.dump(clf,open(filename,'wb'))\n",
        "\n",
        "print(\" Classification Report\")\n",
        "\n",
        "print(\"\\n\\n\")\n",
        "\n",
        "print(metrics.classification_report(y_test,y_pred_nm))"
      ]
    }
  ],
  "metadata": {
    "colab": {
      "collapsed_sections": [],
      "machine_shape": "hm",
      "name": "MLProjectExtraTreesClassifier.ipynb",
      "provenance": []
    },
    "kernelspec": {
      "display_name": "Python 3",
      "name": "python3"
    }
  },
  "nbformat": 4,
  "nbformat_minor": 0
}
