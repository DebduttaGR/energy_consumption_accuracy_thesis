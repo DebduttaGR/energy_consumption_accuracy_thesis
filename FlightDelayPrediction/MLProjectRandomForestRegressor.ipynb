{
 "cells": [
  {
   "cell_type": "code",
   "execution_count": 1,
   "metadata": {
    "colab": {},
    "colab_type": "code",
    "id": "gE_2ZPpNYg1J"
   },
   "outputs": [],
   "source": [
    "from warnings import simplefilter\n",
    "\n",
    "simplefilter(action='ignore', category=FutureWarning)"
   ]
  },
  {
   "cell_type": "code",
   "execution_count": 0,
   "metadata": {
    "colab": {},
    "colab_type": "code",
    "id": "EVg0p5TFZsBF"
   },
   "outputs": [],
   "source": [
    "#!pip install -U -q PyDrive\n",
    "#from pydrive.auth import GoogleAuth\n",
    "#from pydrive.drive import GoogleDrive\n",
    "#from google.colab import auth\n",
    "#from oauth2client.client import GoogleCredentials"
   ]
  },
  {
   "cell_type": "code",
   "execution_count": 5,
   "metadata": {
    "colab": {},
    "colab_type": "code",
    "id": "cgWgOGSRbVX7"
   },
   "outputs": [],
   "source": [
    "import numpy as np\n",
    "import pandas as pd\n",
    "import matplotlib as mpl\n",
    "import matplotlib.pyplot as plt\n",
    "import pickle as pkl\n",
    "import math\n",
    "import sklearn\n",
    "from sklearn import preprocessing\n",
    "from sklearn.model_selection import train_test_split\n",
    "from sklearn import metrics\n",
    "from sklearn.ensemble import RandomForestRegressor"
   ]
  },
  {
   "cell_type": "code",
   "execution_count": 6,
   "metadata": {},
   "outputs": [],
   "source": [
    "#flight_data = pd.read_csv(r'C:\\Users\\badri\\Desktop\\ML-Project\\Flight Data\\Flight_Data.csv')\n",
    "from pathlib import Path\n",
    "\n",
    "# 1) Define your project root (where you launched the script / notebook)\n",
    "BASE_DIR = Path().resolve()      # or: Path(__file__).parent if in a .py module\n",
    "\n",
    "# 2) Point at your data folder\n",
    "DATA_DIR = BASE_DIR / 'data'\n",
    "\n",
    "# 3) Build each file’s path dynamically\n",
    "flight_csv   = DATA_DIR / 'filtered_flights.csv'\n",
    "weather_csv  = DATA_DIR / 'Weather' / 'Weather_Data.csv'\n",
    "final_csv   = DATA_DIR / 'Flight_Weather.csv'\n",
    "\n",
    "# 4) Read them with pandas\n",
    "#flight_data  = pd.read_csv(flight_csv)\n",
    "#weather_data = pd.read_csv(weather_csv)\n",
    "dataframe = pd.read_csv(final_csv)"
   ]
  },
  {
   "cell_type": "code",
   "execution_count": 0,
   "metadata": {
    "colab": {},
    "colab_type": "code",
    "id": "xjrL1YvLbVa7"
   },
   "outputs": [],
   "source": [
    "#link = 'https://drive.google.com/open?id=17DbBIxtBcBM9Q4MWbeF46ml8WNv_ATKl'"
   ]
  },
  {
   "cell_type": "code",
   "execution_count": 0,
   "metadata": {
    "colab": {},
    "colab_type": "code",
    "id": "H2qarzi2bVdc"
   },
   "outputs": [],
   "source": [
    "#fluff, id = link.split('=')"
   ]
  },
  {
   "cell_type": "code",
   "execution_count": 0,
   "metadata": {
    "colab": {},
    "colab_type": "code",
    "id": "cENiGEiPpVBy"
   },
   "outputs": [],
   "source": [
    "#auth.authenticate_user()\n",
    "#gauth = GoogleAuth()\n",
    "#gauth.credentials = GoogleCredentials.get_application_default()\n",
    "#drive = GoogleDrive(gauth)"
   ]
  },
  {
   "cell_type": "code",
   "execution_count": 0,
   "metadata": {
    "colab": {},
    "colab_type": "code",
    "id": "uvP4l0elbVjN"
   },
   "outputs": [],
   "source": [
    "#downloaded = drive.CreateFile({'id':id}) \n",
    "\n",
    "#downloaded.GetContentFile('Flight_Weather.csv')\n",
    "\n",
    "#dataframe = pd.read_csv('Flight_Weather.csv')"
   ]
  },
  {
   "cell_type": "code",
   "execution_count": 7,
   "metadata": {
    "colab": {},
    "colab_type": "code",
    "id": "d5bklro9bVmC"
   },
   "outputs": [],
   "source": [
    "dataframe = dataframe[dataframe['ArrDel15'] == 1]"
   ]
  },
  {
   "cell_type": "code",
   "execution_count": 8,
   "metadata": {
    "colab": {},
    "colab_type": "code",
    "id": "TOtr2aolnHCa"
   },
   "outputs": [],
   "source": [
    "data_label_encoder = preprocessing.LabelEncoder()\n",
    "\n",
    "encoded_list = data_label_encoder.fit_transform(dataframe['Airport'])\n",
    "\n",
    "dataframe['EncodedAirport'] = encoded_list"
   ]
  },
  {
   "cell_type": "code",
   "execution_count": 9,
   "metadata": {
    "colab": {},
    "colab_type": "code",
    "id": "-whfiGGM7nQI"
   },
   "outputs": [],
   "source": [
    "y = dataframe['ArrDelayMinutes']\n",
    "\n",
    "dataframe = dataframe.drop(['ArrDel15','FlightDate','Date','Airport','ArrDelayMinutes'],axis = 1)\n",
    "\n",
    "X = dataframe"
   ]
  },
  {
   "cell_type": "code",
   "execution_count": 10,
   "metadata": {
    "colab": {},
    "colab_type": "code",
    "id": "8y9vl-vJbVsF"
   },
   "outputs": [],
   "source": [
    "X_train, X_test, y_train, y_test = train_test_split(X, y, test_size = 0.25)"
   ]
  },
  {
   "cell_type": "code",
   "execution_count": 11,
   "metadata": {
    "colab": {},
    "colab_type": "code",
    "id": "uf3JjqyrbVxp"
   },
   "outputs": [],
   "source": [
    "rf = RandomForestRegressor()"
   ]
  },
  {
   "cell_type": "code",
   "execution_count": 12,
   "metadata": {
    "colab": {},
    "colab_type": "code",
    "id": "EGfCD6XqbV0n"
   },
   "outputs": [],
   "source": [
    "rf.fit(X_train,y_train)\n",
    "\n",
    "filename = \"RFR.pkl\"\n",
    "\n",
    "pkl.dump(rf,open(filename,'wb'))\n",
    "\n",
    "y_pred = rf.predict(X_test)"
   ]
  },
  {
   "cell_type": "code",
   "execution_count": 13,
   "metadata": {
    "colab": {
     "base_uri": "https://localhost:8080/",
     "height": 85
    },
    "colab_type": "code",
    "executionInfo": {
     "elapsed": 653957,
     "status": "ok",
     "timestamp": 1586369654587,
     "user": {
      "displayName": "Badri Narayanan",
      "photoUrl": "https://lh3.googleusercontent.com/a-/AOh14GhjcqRqiLqMGLsp-IpvJRZnBUjAguuaQAbjFsmR6A=s64",
      "userId": "04414803638956108816"
     },
     "user_tz": -330
    },
    "id": "AtOm7YCNbVwb",
    "outputId": "34028128-3c7f-4d29-94b5-9f78de98912d"
   },
   "outputs": [
    {
     "name": "stdout",
     "output_type": "stream",
     "text": [
      " Mean Absolute Error :  5.599500725079512\n",
      " Mean Squared Error :  92.90907054900056\n",
      " Root Mean Squared Error :  9.638935135636123\n",
      " R2 Score :  0.980586517204537\n"
     ]
    }
   ],
   "source": [
    "print(\" Mean Absolute Error : \", metrics.mean_absolute_error(y_test, y_pred))  \n",
    "\n",
    "print(\" Mean Squared Error : \", metrics.mean_squared_error(y_test, y_pred))  \n",
    "\n",
    "print(\" Root Mean Squared Error : \", np.sqrt(metrics.mean_squared_error(y_test, y_pred)))\n",
    "\n",
    "print(\" R2 Score : \",metrics.r2_score(y_test,y_pred))"
   ]
  },
  {
   "cell_type": "code",
   "execution_count": 14,
   "metadata": {
    "colab": {
     "base_uri": "https://localhost:8080/",
     "height": 265
    },
    "colab_type": "code",
    "executionInfo": {
     "elapsed": 652726,
     "status": "ok",
     "timestamp": 1586369655200,
     "user": {
      "displayName": "Badri Narayanan",
      "photoUrl": "https://lh3.googleusercontent.com/a-/AOh14GhjcqRqiLqMGLsp-IpvJRZnBUjAguuaQAbjFsmR6A=s64",
      "userId": "04414803638956108816"
     },
     "user_tz": -330
    },
    "id": "mYVK79aXsWXo",
    "outputId": "ce50758e-8b89-4f74-adb5-093c175666f5"
   },
   "outputs": [
    {
     "data": {
      "image/png": "[encoded data removed]",
      "text/plain": [
       "<Figure size 640x480 with 1 Axes>"
      ]
     },
     "metadata": {},
     "output_type": "display_data"
    }
   ],
   "source": [
    "x_ax = range(len(y_test))\n",
    "\n",
    "plt.scatter(x_ax, y_test, s=5, color=\"blue\", label = \"Original\")\n",
    "\n",
    "plt.plot(x_ax, y_pred, lw=0.8, color=\"red\", label = \"Predicted\")\n",
    "\n",
    "plt.legend()\n",
    "\n",
    "plt.show()"
   ]
  },
  {
   "cell_type": "code",
   "execution_count": 0,
   "metadata": {
    "colab": {},
    "colab_type": "code",
    "id": "T9pe0Pc-9Sve"
   },
   "outputs": [],
   "source": [
    "from google.colab import files\n",
    "\n",
    "files.download('RFR.pkl') "
   ]
  }
 ],
 "metadata": {
  "colab": {
   "authorship_tag": "ABX9TyOQfGrVm2P389894CoLrEWG",
   "collapsed_sections": [],
   "name": "MLProjectRandomForestRegressor.ipynb",
   "provenance": []
  },
  "kernelspec": {
   "display_name": "Python 3",
   "name": "python3"
  },
  "language_info": {
   "codemirror_mode": {
    "name": "ipython",
    "version": 3
   },
   "file_extension": ".py",
   "mimetype": "text/x-python",
   "name": "python",
   "nbconvert_exporter": "python",
   "pygments_lexer": "ipython3",
   "version": "3.11.6"
  }
 },
 "nbformat": 4,
 "nbformat_minor": 0
}
