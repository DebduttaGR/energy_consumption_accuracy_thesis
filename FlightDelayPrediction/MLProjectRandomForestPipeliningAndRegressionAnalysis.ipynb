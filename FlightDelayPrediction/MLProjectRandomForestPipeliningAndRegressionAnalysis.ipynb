{
  "cells": [
    {
      "cell_type": "code",
      "execution_count": 1,
      "metadata": {
        "colab": {},
        "colab_type": "code",
        "id": "5u-RcwmZiW5w"
      },
      "outputs": [],
      "source": [
        "import warnings\n",
        "\n",
        "from warnings import simplefilter\n",
        "\n",
        "from sklearn.exceptions import DataConversionWarning\n",
        "\n",
        "simplefilter(action='ignore', category=FutureWarning)\n",
        "\n",
        "warnings.filterwarnings(action='ignore', category=DataConversionWarning)"
      ]
    },
    {
      "cell_type": "code",
      "execution_count": 2,
      "metadata": {
        "colab": {},
        "colab_type": "code",
        "id": "CPEvjU31ifpo"
      },
      "outputs": [],
      "source": [
        "import numpy as np\n",
        "import pandas as pd\n",
        "import matplotlib as mpl\n",
        "import matplotlib.pyplot as plt\n",
        "import pickle as pkl\n",
        "import math\n",
        "import csv\n",
        "import sklearn\n",
        "from sklearn.ensemble import RandomForestClassifier\n",
        "from sklearn.ensemble import RandomForestRegressor\n",
        "from sklearn.model_selection import train_test_split\n",
        "from sklearn import metrics\n",
        "from sklearn import preprocessing\n",
        "from sklearn.metrics import classification_report\n",
        "from imblearn.over_sampling import RandomOverSampler\n",
        "from imblearn.over_sampling import SMOTE \n",
        "from imblearn.under_sampling import RandomUnderSampler\n",
        "from imblearn.under_sampling import NearMiss\n",
        "from collections import Counter"
      ]
    },
    {
      "cell_type": "code",
      "execution_count": 3,
      "metadata": {},
      "outputs": [],
      "source": [
        "#flight_data = pd.read_csv(r'C:\\Users\\badri\\Desktop\\ML-Project\\Flight Data\\Flight_Data.csv')\n",
        "from pathlib import Path\n",
        "\n",
        "# 1) Define your project root (where you launched the script / notebook)\n",
        "BASE_DIR = Path().resolve()      # or: Path(__file__).parent if in a .py module\n",
        "\n",
        "# 2) Point at your data folder\n",
        "DATA_DIR = BASE_DIR / 'data'\n",
        "\n",
        "# 3) Build each file’s path dynamically\n",
        "flight_csv   = DATA_DIR / 'filtered_flights.csv'\n",
        "weather_csv  = DATA_DIR / 'Weather' / 'Weather_Data.csv'\n",
        "final_csv   = DATA_DIR / 'Flight_Weather.csv'\n",
        "\n",
        "# 4) Read them with pandas\n",
        "#flight_data  = pd.read_csv(flight_csv)\n",
        "#weather_data = pd.read_csv(weather_csv)\n",
        "dataframe = pd.read_csv(final_csv)"
      ]
    },
    {
      "cell_type": "code",
      "execution_count": 4,
      "metadata": {
        "colab": {},
        "colab_type": "code",
        "id": "qW_Kww0FifsW"
      },
      "outputs": [],
      "source": [
        "#!pip install -U -q PyDrive\n",
        "#from pydrive.auth import GoogleAuth\n",
        "#from pydrive.drive import GoogleDrive\n",
        "#from google.colab import auth\n",
        "#from oauth2client.client import GoogleCredentials"
      ]
    },
    {
      "cell_type": "code",
      "execution_count": 5,
      "metadata": {
        "colab": {},
        "colab_type": "code",
        "id": "tYeMsdbbizLY"
      },
      "outputs": [],
      "source": [
        "#auth.authenticate_user()\n",
        "#gauth = GoogleAuth()\n",
        "#gauth.credentials = GoogleCredentials.get_application_default()\n",
        "##drive = GoogleDrive(gauth)"
      ]
    },
    {
      "cell_type": "code",
      "execution_count": 6,
      "metadata": {
        "colab": {},
        "colab_type": "code",
        "id": "CrSn22d3ifzB"
      },
      "outputs": [],
      "source": [
        "#def get_dataframe(link,filename) :\n",
        "\n",
        "  #fluff, id = link.split('=')\n",
        "\n",
        "  #downloaded = drive.CreateFile({'id':id}) \n",
        "\n",
        "  #downloaded.GetContentFile(filename)\n",
        "\n",
        "  #dataframe = pd.read_csv(filename)\n",
        "\n",
        "  #data_label_encoder = preprocessing.LabelEncoder()\n",
        "\n",
        "  #encoded_list = data_label_encoder.fit_transform(dataframe['Airport'])\n",
        "\n",
        "  #dataframe['EncodedAirport'] = encoded_list\n",
        "\n",
        "  #return dataframe"
      ]
    },
    {
      "cell_type": "code",
      "execution_count": 7,
      "metadata": {
        "colab": {},
        "colab_type": "code",
        "id": "ux1WivlrifwZ"
      },
      "outputs": [],
      "source": [
        "#dataframe = get_dataframe('https://drive.google.com/open?id=17DbBIxtBcBM9Q4MWbeF46ml8WNv_ATKl','Flight_Weather.csv')"
      ]
    },
    {
      "cell_type": "code",
      "execution_count": 8,
      "metadata": {
        "colab": {},
        "colab_type": "code",
        "id": "8rGtH2Bli9LJ"
      },
      "outputs": [],
      "source": [
        "y = dataframe[['ArrDel15','ArrDelayMinutes']]\n",
        "\n",
        "dataframe = dataframe.drop(['FlightDate','Date','Airport','ArrDelayMinutes'],axis = 1)\n",
        "\n",
        "X = dataframe"
      ]
    },
    {
      "cell_type": "code",
      "execution_count": 9,
      "metadata": {
        "colab": {},
        "colab_type": "code",
        "id": "u2d5So1ejANT"
      },
      "outputs": [],
      "source": [
        "X_train, X_test, y_train, y_test = train_test_split(X, y, test_size = 0.25)"
      ]
    },
    {
      "cell_type": "code",
      "execution_count": 10,
      "metadata": {
        "colab": {},
        "colab_type": "code",
        "id": "nIPmquvLn97B"
      },
      "outputs": [],
      "source": [
        "X_train_regressor = X_train[X_train['ArrDel15'] == 1].drop(['ArrDel15'] , axis = 1)\n",
        "\n",
        "X_test_regressor = X_test[X_test['ArrDel15'] == 1].drop(['ArrDel15'] , axis = 1)\n",
        "\n",
        "X_train_classifier = X_train.drop(['ArrDel15'] , axis = 1)\n",
        "\n",
        "X_test_classifier = X_test.drop(['ArrDel15'] , axis = 1)\n",
        "\n",
        "y_train_classifier = y_train.drop(['ArrDelayMinutes'] , axis = 1)\n",
        "\n",
        "y_test_classifier = y_test.drop(['ArrDelayMinutes'] , axis = 1)\n",
        "\n",
        "y_train_regressor = y_train[y_train['ArrDel15'] == 1].drop(['ArrDel15'] , axis = 1)\n",
        "\n",
        "y_test_regressor = y_test[y_test['ArrDel15'] == 1].drop(['ArrDel15'] , axis = 1)"
      ]
    },
    {
      "cell_type": "code",
      "execution_count": 11,
      "metadata": {
        "colab": {
          "base_uri": "https://localhost:8080/",
          "height": 67
        },
        "colab_type": "code",
        "id": "bGNl3bs8xE_Q",
        "outputId": "56e5b873-2444-4c17-cb94-5f9a4e2bf926"
      },
      "outputs": [
        {
          "name": "stdout",
          "output_type": "stream",
          "text": [
            " Original DataSet Shape :  Counter({0.0: 3007264, 1.0: 728299})\n",
            " RandomOverSampled DataSet Shape :  Counter({0.0: 3007264, 1.0: 3007264})\n",
            " SMOTE DataSet Shape :  Counter({0.0: 3007264, 1.0: 3007264})\n"
          ]
        }
      ],
      "source": [
        "print(\" Original DataSet Shape : \",Counter(y_train_classifier.T.squeeze()))\n",
        "\n",
        "ros = RandomOverSampler(random_state = 42)\n",
        "\n",
        "X_ros, y_ros = ros.fit_resample(X_train_classifier, y_train_classifier.T.squeeze())\n",
        "\n",
        "print(\" RandomOverSampled DataSet Shape : \",Counter(y_ros))\n",
        "\n",
        "smote = SMOTE(random_state = 42)\n",
        "\n",
        "X_smote, y_smote = smote.fit_resample(X_train_classifier, y_train_classifier.T.squeeze())\n",
        "\n",
        "print(\" SMOTE DataSet Shape : \",Counter(y_smote))"
      ]
    },
    {
      "cell_type": "code",
      "execution_count": 12,
      "metadata": {
        "colab": {
          "base_uri": "https://localhost:8080/",
          "height": 67
        },
        "colab_type": "code",
        "id": "VckI0stPxBYy",
        "outputId": "48135e12-a54f-4bfd-d383-c690b2e561c6"
      },
      "outputs": [
        {
          "name": "stdout",
          "output_type": "stream",
          "text": [
            " Original DataSet Shape :  Counter({0.0: 3007264, 1.0: 728299})\n",
            " RandomUnderampled DataSet Shape :  Counter({0.0: 728299, 1.0: 728299})\n",
            " NearMiss DataSet Shape :  Counter({0.0: 728299, 1.0: 728299})\n"
          ]
        }
      ],
      "source": [
        "print(\" Original DataSet Shape : \",Counter(y_train_classifier.T.squeeze()))\n",
        "\n",
        "rus = RandomUnderSampler(random_state = 42)\n",
        "\n",
        "X_rus, y_rus = rus.fit_resample(X_train_classifier, y_train_classifier.T.squeeze())\n",
        "\n",
        "print(\" RandomUnderampled DataSet Shape : \",Counter(y_rus))\n",
        "\n",
        "nm = NearMiss()\n",
        "\n",
        "X_nm, y_nm = nm.fit_resample(X_train_classifier, y_train_classifier.T.squeeze())\n",
        "\n",
        "print(\" NearMiss DataSet Shape : \",Counter(y_nm))"
      ]
    },
    {
      "cell_type": "code",
      "execution_count": 13,
      "metadata": {
        "colab": {},
        "colab_type": "code",
        "id": "zZGu27pPjAcq"
      },
      "outputs": [],
      "source": [
        "clf = RandomForestClassifier(n_estimators = 100)"
      ]
    },
    {
      "cell_type": "code",
      "execution_count": 14,
      "metadata": {
        "colab": {
          "base_uri": "https://localhost:8080/",
          "height": 232
        },
        "colab_type": "code",
        "id": "BbxQsf7QjAWD",
        "outputId": "f1661d1c-287d-4ec9-c797-635aa5989105"
      },
      "outputs": [
        {
          "name": "stdout",
          "output_type": "stream",
          "text": [
            " Classification Report \n",
            "\n",
            "\n",
            "\n",
            "              precision    recall  f1-score   support\n",
            "\n",
            "         0.0       0.95      0.98      0.97   1002560\n",
            "         1.0       0.92      0.77      0.84    242628\n",
            "\n",
            "    accuracy                           0.94   1245188\n",
            "   macro avg       0.93      0.88      0.90   1245188\n",
            "weighted avg       0.94      0.94      0.94   1245188\n",
            "\n"
          ]
        }
      ],
      "source": [
        "clf.fit(X_train_classifier,y_train_classifier)\n",
        "\n",
        "y_pred = clf.predict(X_test_classifier)\n",
        "\n",
        "print(\" Classification Report \")\n",
        "\n",
        "print(\"\\n\\n\")\n",
        "\n",
        "print(metrics.classification_report(y_test_classifier,y_pred))"
      ]
    },
    {
      "cell_type": "code",
      "execution_count": 15,
      "metadata": {
        "colab": {
          "base_uri": "https://localhost:8080/",
          "height": 232
        },
        "colab_type": "code",
        "id": "0WkLd-kqj8Jz",
        "outputId": "b12d066e-ca3c-4562-c2aa-06bfef4ab51a"
      },
      "outputs": [
        {
          "name": "stdout",
          "output_type": "stream",
          "text": [
            " Classification Report\n",
            "\n",
            "\n",
            "\n",
            "              precision    recall  f1-score   support\n",
            "\n",
            "         0.0       0.95      0.97      0.96   1002560\n",
            "         1.0       0.88      0.78      0.83    242628\n",
            "\n",
            "    accuracy                           0.94   1245188\n",
            "   macro avg       0.91      0.88      0.89   1245188\n",
            "weighted avg       0.93      0.94      0.93   1245188\n",
            "\n"
          ]
        }
      ],
      "source": [
        "clf.fit(X_smote,y_smote)\n",
        "\n",
        "y_pred_smote = clf.predict(X_test_classifier)\n",
        "\n",
        "print(\" Classification Report\")\n",
        "\n",
        "print(\"\\n\\n\")\n",
        "\n",
        "print(metrics.classification_report(y_test_classifier,y_pred_smote))"
      ]
    },
    {
      "cell_type": "code",
      "execution_count": 0,
      "metadata": {
        "colab": {},
        "colab_type": "code",
        "id": "X8y1qcXijjto"
      },
      "outputs": [],
      "source": []
    },
    {
      "cell_type": "code",
      "execution_count": 16,
      "metadata": {
        "colab": {},
        "colab_type": "code",
        "id": "0p_gli2zkgza"
      },
      "outputs": [],
      "source": [
        "rfr = RandomForestRegressor()"
      ]
    },
    {
      "cell_type": "code",
      "execution_count": 17,
      "metadata": {
        "colab": {},
        "colab_type": "code",
        "id": "Qw7COXI6khWx"
      },
      "outputs": [],
      "source": [
        "rfr.fit(X_train_regressor,y_train_regressor)\n",
        "\n",
        "y_pred = rfr.predict(X_test_regressor)"
      ]
    },
    {
      "cell_type": "code",
      "execution_count": 18,
      "metadata": {
        "colab": {
          "base_uri": "https://localhost:8080/",
          "height": 83
        },
        "colab_type": "code",
        "id": "FSy_AP8Xknio",
        "outputId": "e2d19518-703c-4108-c571-c336f26a3370"
      },
      "outputs": [
        {
          "name": "stdout",
          "output_type": "stream",
          "text": [
            " Mean Absolute Error :  5.597908773925515\n",
            " Mean Squared Error :  94.55720554305357\n",
            " Root Mean Squared Error :  9.724052938104233\n",
            " R2 Score :  0.9800383608927881\n"
          ]
        }
      ],
      "source": [
        "print(\" Mean Absolute Error : \", metrics.mean_absolute_error(y_test_regressor, y_pred))  \n",
        "\n",
        "print(\" Mean Squared Error : \", metrics.mean_squared_error(y_test_regressor, y_pred))  \n",
        "\n",
        "print(\" Root Mean Squared Error : \", np.sqrt(metrics.mean_squared_error(y_test_regressor, y_pred)))\n",
        "\n",
        "print(\" R2 Score : \",metrics.r2_score(y_test_regressor,y_pred))"
      ]
    },
    {
      "cell_type": "code",
      "execution_count": 0,
      "metadata": {
        "colab": {},
        "colab_type": "code",
        "id": "cgDRewOFmkes"
      },
      "outputs": [],
      "source": []
    },
    {
      "cell_type": "code",
      "execution_count": 19,
      "metadata": {
        "colab": {},
        "colab_type": "code",
        "id": "K3CZkILokhZ7"
      },
      "outputs": [],
      "source": [
        "Y = y_test_regressor"
      ]
    },
    {
      "cell_type": "code",
      "execution_count": 20,
      "metadata": {
        "colab": {},
        "colab_type": "code",
        "id": "lODMspsJElyw"
      },
      "outputs": [],
      "source": [
        "X_test_regression_analysis =  X_test_regressor"
      ]
    },
    {
      "cell_type": "code",
      "execution_count": 21,
      "metadata": {
        "colab": {},
        "colab_type": "code",
        "id": "GFszthqwkoEO"
      },
      "outputs": [],
      "source": [
        "X_test_regression_analysis['ArrDelayMinutes'] = y_test_regressor"
      ]
    },
    {
      "cell_type": "code",
      "execution_count": 22,
      "metadata": {
        "colab": {},
        "colab_type": "code",
        "id": "6r9VBfrskoG_"
      },
      "outputs": [],
      "source": [
        "Y_15_100= Y.loc[Y['ArrDelayMinutes'].isin(list(range(15,101)))]\n",
        "\n",
        "Y_100_200 = Y.loc[Y['ArrDelayMinutes'].isin(list(range(101,201)))]\n",
        "\n",
        "Y_200_500 = Y.loc[Y['ArrDelayMinutes'].isin(list(range(201,501)))]\n",
        "\n",
        "Y_500_1000 = Y.loc[Y['ArrDelayMinutes'].isin(list(range(501,1001)))]\n",
        "\n",
        "Y_1000_2000 = Y.loc[Y['ArrDelayMinutes'].isin(list(range(1001,2001)))]\n",
        "\n",
        "Y_15_100_1 = Y_15_100['ArrDelayMinutes']\n",
        "\n",
        "Y_100_200_1 = Y_100_200['ArrDelayMinutes']\n",
        "\n",
        "Y_200_500_1 = Y_200_500['ArrDelayMinutes']\n",
        "\n",
        "Y_500_1000_1 = Y_500_1000['ArrDelayMinutes']\n",
        "\n",
        "Y_1000_2000_1 = Y_1000_2000['ArrDelayMinutes']\n",
        "\n",
        "\n",
        "X = X_test_regression_analysis\n",
        "\n",
        "X_15_100 = X.loc[X['ArrDelayMinutes'].isin(list(range(15,101)))]\n",
        "\n",
        "X_100_200 = X.loc[X['ArrDelayMinutes'].isin(list(range(101,201)))]\n",
        "\n",
        "X_200_500 = X.loc[X['ArrDelayMinutes'].isin(list(range(201,501)))]\n",
        "\n",
        "X_500_1000 = X.loc[X['ArrDelayMinutes'].isin(list(range(501,1001)))]\n",
        "\n",
        "X_1000_2000 = X.loc[X['ArrDelayMinutes'].isin(list(range(1001,2001)))]\n",
        "\n",
        "X_15_100_1 = X_15_100.drop(['ArrDelayMinutes'],axis = 1)\n",
        "\n",
        "X_100_200_1 = X_100_200.drop(['ArrDelayMinutes'],axis = 1)\n",
        "\n",
        "X_200_500_1 = X_200_500.drop(['ArrDelayMinutes'],axis = 1)\n",
        "\n",
        "X_500_1000_1 = X_500_1000.drop(['ArrDelayMinutes'],axis = 1)\n",
        "\n",
        "X_1000_2000_1 = X_1000_2000.drop(['ArrDelayMinutes'],axis = 1)"
      ]
    },
    {
      "cell_type": "code",
      "execution_count": 23,
      "metadata": {
        "colab": {},
        "colab_type": "code",
        "id": "LquIJNOvk0fL"
      },
      "outputs": [],
      "source": [
        "def scores_rfr(X,Y,Z):\n",
        "\n",
        "  for i,j,k in zip(X,Y,Z):\n",
        "    \n",
        "    print(k)\n",
        "\n",
        "    y_pred = rfr.predict(i)\n",
        "\n",
        "    print(\" Mean Absolute Error : \", metrics.mean_absolute_error(j, y_pred))  \n",
        "\n",
        "    print(\" Mean Squared Error : \", metrics.mean_squared_error(j, y_pred))  \n",
        "\n",
        "    print(\" Root Mean Squared Error : \", np.sqrt(metrics.mean_squared_error(j, y_pred)))\n",
        "\n",
        "    print(\" R2 Score : \",metrics.r2_score(j,y_pred))\n",
        "\n",
        "    print(\"\\n\\n\")"
      ]
    },
    {
      "cell_type": "code",
      "execution_count": 24,
      "metadata": {
        "colab": {},
        "colab_type": "code",
        "id": "vdgtexUzk0iP"
      },
      "outputs": [],
      "source": [
        "X_list = [X_15_100_1,X_100_200_1,X_200_500_1 ,X_500_1000_1 ,X_1000_2000_1]\n",
        "\n",
        "Y_list = [Y_15_100_1,Y_100_200_1,Y_200_500_1,Y_500_1000_1 ,Y_1000_2000_1]\n",
        "\n",
        "Z_list = ['15_100','100_200','200_500','500_1000','1000_2000']"
      ]
    },
    {
      "cell_type": "code",
      "execution_count": 25,
      "metadata": {
        "colab": {
          "base_uri": "https://localhost:8080/",
          "height": 677
        },
        "colab_type": "code",
        "id": "0MKwUJA5k8mh",
        "outputId": "cdf8d336-7995-4aff-a7a4-a88c7d22fede"
      },
      "outputs": [
        {
          "name": "stdout",
          "output_type": "stream",
          "text": [
            "15_100\n",
            " Mean Absolute Error :  4.6775862085784246\n",
            " Mean Squared Error :  56.90359515134665\n",
            " Root Mean Squared Error :  7.543447166338918\n",
            " R2 Score :  0.8834964207187026\n",
            "\n",
            "\n",
            "\n",
            "100_200\n",
            " Mean Absolute Error :  9.550235968949647\n",
            " Mean Squared Error :  237.08268557738546\n",
            " Root Mean Squared Error :  15.39748958685751\n",
            " R2 Score :  0.6755454219786254\n",
            "\n",
            "\n",
            "\n",
            "200_500\n",
            " Mean Absolute Error :  14.207391247889884\n",
            " Mean Squared Error :  511.3815061160888\n",
            " Root Mean Squared Error :  22.613745954973687\n",
            " R2 Score :  0.8791914791865294\n",
            "\n",
            "\n",
            "\n",
            "500_1000\n",
            " Mean Absolute Error :  14.554718309859155\n",
            " Mean Squared Error :  555.95547\n",
            " Root Mean Squared Error :  23.578707979870313\n",
            " R2 Score :  0.9721818902118338\n",
            "\n",
            "\n",
            "\n",
            "1000_2000\n",
            " Mean Absolute Error :  18.078961038961033\n",
            " Mean Squared Error :  522.1622961038955\n",
            " Root Mean Squared Error :  22.850870795308776\n",
            " R2 Score :  0.9563906313127158\n",
            "\n",
            "\n",
            "\n"
          ]
        }
      ],
      "source": [
        "scores_rfr(X_list,Y_list,Z_list)"
      ]
    },
    {
      "cell_type": "code",
      "execution_count": 26,
      "metadata": {
        "colab": {},
        "colab_type": "code",
        "id": "C5W_PHZ6k_HZ"
      },
      "outputs": [],
      "source": [
        "#This is the end-to-end pipelining and regression analysis of the Random Forest Classifier and Regressor.\n",
        "#The code below runs the Random Forest Classifier and Regressor on the Flight Delay Prediction dataset.\n",
        "#It first uses classification to predict whether a flight will be delayed or not, and then uses regression (only on those predicted as delayed) \n",
        "# to predict the delay time in minutes."
      ]
    },
    {
      "cell_type": "code",
      "execution_count": 27,
      "metadata": {
        "colab": {},
        "colab_type": "code",
        "id": "kXq69vrXk_Ka"
      },
      "outputs": [],
      "source": [
        "X_test_pipeline = X_test_classifier\n",
        "\n",
        "X_train_pipeline = X_train_classifier\n",
        "\n",
        "y_test_pipeline = y_test_classifier\n",
        "\n",
        "y_train_classifier = y_train_classifier"
      ]
    },
    {
      "cell_type": "code",
      "execution_count": 28,
      "metadata": {
        "colab": {},
        "colab_type": "code",
        "id": "pmOFrUF3k_N3"
      },
      "outputs": [],
      "source": [
        "clf.fit(X_test_pipeline,y_test_pipeline)\n",
        "\n",
        "y_pred_pipeline = clf.predict(X_test_pipeline)"
      ]
    },
    {
      "cell_type": "code",
      "execution_count": 29,
      "metadata": {
        "colab": {},
        "colab_type": "code",
        "id": "ffDCobh_lLvL"
      },
      "outputs": [],
      "source": [
        "X_test_pipeline['Predicted'] = y_pred_pipeline\n",
        "\n",
        "X_test_pipeline['ArrDelayMinutes'] = y_test_regressor\n",
        "\n",
        "X_test_pipeline = X_test_pipeline[X_test_pipeline['Predicted'] == 1]"
      ]
    },
    {
      "cell_type": "code",
      "execution_count": 30,
      "metadata": {
        "colab": {},
        "colab_type": "code",
        "id": "YxiAs-5-lR8a"
      },
      "outputs": [],
      "source": [
        "y_pipeline = X_test_pipeline['ArrDelayMinutes']\n",
        "\n",
        "X_test_pipeline = X_test_pipeline.drop(['Predicted','ArrDelayMinutes'],axis = 1)\n",
        "\n",
        "X_pipeline = X_test_pipeline"
      ]
    },
    {
      "cell_type": "code",
      "execution_count": 31,
      "metadata": {
        "colab": {},
        "colab_type": "code",
        "id": "oUoZe9FhlUCZ"
      },
      "outputs": [],
      "source": [
        "y_regressor_pipeline_pred = rfr.predict(X_pipeline)"
      ]
    },
    {
      "cell_type": "code",
      "execution_count": 32,
      "metadata": {
        "colab": {
          "base_uri": "https://localhost:8080/",
          "height": 166
        },
        "colab_type": "code",
        "id": "WBztn_OClZgR",
        "outputId": "a1b568a1-c2c0-4487-d412-f4e7efaf5dd4"
      },
      "outputs": [
        {
          "name": "stdout",
          "output_type": "stream",
          "text": [
            "\n",
            "\n",
            " Random Forest Regressor \n",
            "\n",
            "\n",
            " Mean Absolute Error :  5.59800624015959\n",
            " Mean Squared Error :  94.55925648333621\n",
            " Root Mean Squared Error :  9.724158394603423\n",
            " R2 Score :  0.9800382634216509\n"
          ]
        }
      ],
      "source": [
        "print(\"\\n\\n Random Forest Regressor \\n\\n\")\n",
        "\n",
        "print(\" Mean Absolute Error : \", metrics.mean_absolute_error(y_pipeline, y_regressor_pipeline_pred))  \n",
        "\n",
        "print(\" Mean Squared Error : \", metrics.mean_squared_error(y_pipeline, y_regressor_pipeline_pred))  \n",
        "\n",
        "print(\" Root Mean Squared Error : \", np.sqrt(metrics.mean_squared_error(y_pipeline, y_regressor_pipeline_pred)))\n",
        "\n",
        "print(\" R2 Score : \",metrics.r2_score(y_pipeline,y_regressor_pipeline_pred))"
      ]
    },
    {
      "cell_type": "code",
      "execution_count": 33,
      "metadata": {},
      "outputs": [
        {
          "name": "stdout",
          "output_type": "stream",
          "text": [
            "   threshold  invocation_rate       MAE       RMSE        R2\n",
            "0        0.1         0.243244  5.597909   9.724053  0.980038\n",
            "1        0.3         0.197463  5.597909   9.724053  0.980038\n",
            "2        0.5         0.194849  5.597963   9.724118  0.980038\n",
            "3        0.7         0.181174  5.881989  10.025225  0.979754\n",
            "4        0.9         0.127830  7.241972  11.312469  0.979192\n",
            "5        1.0         0.072750  7.519381  11.652355  0.977012\n"
          ]
        }
      ],
      "source": [
        "import numpy as np\n",
        "import pandas as pd\n",
        "from sklearn.metrics import mean_absolute_error, mean_squared_error, r2_score\n",
        "\n",
        "# 1) Make sure your models are already trained on the TRAIN split:\n",
        "#    clf.fit(X_train_classifier, y_train_classifier)\n",
        "#    rfr.fit(X_train_regressor, y_train_regressor)\n",
        "\n",
        "# 2) Define thresholds to evaluate\n",
        "thresholds = [0.1, 0.3, 0.5, 0.7, 0.9, 1.0]\n",
        "\n",
        "# 3) Prepare the clean test features (no extra columns)\n",
        "# Only keep columns that were used during regressor training\n",
        "X_feat = X_test_classifier[X_train_regressor.columns].copy()\n",
        "\n",
        "# 4) Compute P(delay) for each test row\n",
        "#    shape = (n_samples, 2), [:,1] is the probability of class '1'\n",
        "proba = clf.predict_proba(X_feat)[:, 1]\n",
        "\n",
        "# 5) Bring in the true continuous delays for ALL test rows, keyed by index\n",
        "y_true_delays = y_test_regressor.copy()  # index matches X_test_classifier for rows where ArrDel15==1\n",
        "\n",
        "# 6) Loop over thresholds\n",
        "results = []\n",
        "for i in thresholds:\n",
        "    # 6a) select rows where P(delay) >= α\n",
        "    invoke_mask = proba >= i\n",
        "    invoke_idx  = X_feat.index[invoke_mask]\n",
        "    invocation_rate = invoke_mask.mean()\n",
        "\n",
        "    # 6b) Of those, *only* those that truly were delayed have a y_true_delays entry.\n",
        "    #     So intersect with y_true_delays’s index:\n",
        "    valid_idx = invoke_idx.intersection(y_true_delays.index)\n",
        "\n",
        "    # 6c) Build Phase‑2 input/output\n",
        "    # Ensure only the columns used during regressor training are selected\n",
        "    X2 = X_feat.loc[valid_idx, X_train_regressor.columns]\n",
        "    y2 = y_true_delays.loc[valid_idx, 'ArrDelayMinutes']\n",
        "\n",
        "    # 6d) Predict delays only for those\n",
        "    y2_pred = rfr.predict(X2)\n",
        "\n",
        "    # 6e) Compute regression metrics\n",
        "    mae  = mean_absolute_error(y2, y2_pred)\n",
        "    rmse = np.sqrt(mean_squared_error(y2, y2_pred))\n",
        "    r2   = r2_score(y2, y2_pred)\n",
        "\n",
        "    results.append({\n",
        "        'threshold': i,\n",
        "        'invocation_rate': invocation_rate,\n",
        "        'MAE': mae,\n",
        "        'RMSE': rmse,\n",
        "        'R2': r2\n",
        "    })\n",
        "\n",
        "# 7) Summarize results\n",
        "df_results = pd.DataFrame(results)\n",
        "print(df_results)\n"
      ]
    }
  ],
  "metadata": {
    "colab": {
      "name": "MLProjectRandomForestClassifierPipeliningAndRegressionAnalysis.ipynb",
      "provenance": []
    },
    "kernelspec": {
      "display_name": "Python 3",
      "name": "python3"
    },
    "language_info": {
      "codemirror_mode": {
        "name": "ipython",
        "version": 3
      },
      "file_extension": ".py",
      "mimetype": "text/x-python",
      "name": "python",
      "nbconvert_exporter": "python",
      "pygments_lexer": "ipython3",
      "version": "3.11.6"
    }
  },
  "nbformat": 4,
  "nbformat_minor": 0
}
