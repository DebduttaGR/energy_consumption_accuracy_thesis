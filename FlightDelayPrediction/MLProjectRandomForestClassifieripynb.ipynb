{
  "cells": [
    {
      "cell_type": "code",
      "execution_count": 1,
      "metadata": {
        "colab": {},
        "colab_type": "code",
        "id": "IMa7Nw31ha1L"
      },
      "outputs": [],
      "source": [
        "from warnings import simplefilter\n",
        "\n",
        "simplefilter(action='ignore', category=FutureWarning)"
      ]
    },
    {
      "cell_type": "code",
      "execution_count": 2,
      "metadata": {
        "colab": {},
        "colab_type": "code",
        "id": "gzZAs7lOjer1"
      },
      "outputs": [
        {
          "name": "stdout",
          "output_type": "stream",
          "text": [
            "Requirement already satisfied: imbalanced-learn in /Library/Frameworks/Python.framework/Versions/3.11/lib/python3.11/site-packages (0.13.0)\n",
            "Requirement already satisfied: scikit-learn in /Library/Frameworks/Python.framework/Versions/3.11/lib/python3.11/site-packages (1.6.1)\n",
            "Collecting scikit-learn\n",
            "  Obtaining dependency information for scikit-learn from https://files.pythonhosted.org/packages/a3/24/44acca76449e391b6b2522e67a63c0454b7c1f060531bdc6d0118fb40851/scikit_learn-1.7.0-cp311-cp311-macosx_12_0_arm64.whl.metadata\n",
            "  Using cached scikit_learn-1.7.0-cp311-cp311-macosx_12_0_arm64.whl.metadata (31 kB)\n",
            "Requirement already satisfied: numpy<3,>=1.24.3 in /Library/Frameworks/Python.framework/Versions/3.11/lib/python3.11/site-packages (from imbalanced-learn) (2.3.1)\n",
            "Requirement already satisfied: scipy<2,>=1.10.1 in /Library/Frameworks/Python.framework/Versions/3.11/lib/python3.11/site-packages (from imbalanced-learn) (1.16.0)\n",
            "Requirement already satisfied: sklearn-compat<1,>=0.1 in /Library/Frameworks/Python.framework/Versions/3.11/lib/python3.11/site-packages (from imbalanced-learn) (0.1.3)\n",
            "Requirement already satisfied: joblib<2,>=1.1.1 in /Library/Frameworks/Python.framework/Versions/3.11/lib/python3.11/site-packages (from imbalanced-learn) (1.5.1)\n",
            "Requirement already satisfied: threadpoolctl<4,>=2.0.0 in /Library/Frameworks/Python.framework/Versions/3.11/lib/python3.11/site-packages (from imbalanced-learn) (3.6.0)\n",
            "\n",
            "\u001b[1m[\u001b[0m\u001b[34;49mnotice\u001b[0m\u001b[1;39;49m]\u001b[0m\u001b[39;49m A new release of pip is available: \u001b[0m\u001b[31;49m23.2.1\u001b[0m\u001b[39;49m -> \u001b[0m\u001b[32;49m25.1.1\u001b[0m\n",
            "\u001b[1m[\u001b[0m\u001b[34;49mnotice\u001b[0m\u001b[1;39;49m]\u001b[0m\u001b[39;49m To update, run: \u001b[0m\u001b[32;49mpython3 -m pip install --upgrade pip\u001b[0m\n",
            "Note: you may need to restart the kernel to use updated packages.\n"
          ]
        }
      ],
      "source": [
        "%pip install -U imbalanced-learn scikit-learn\n",
        "\n",
        "import numpy as np\n",
        "import pandas as pd\n",
        "import matplotlib as mpl\n",
        "import matplotlib.pyplot as plt\n",
        "import pickle as pkl\n",
        "import math\n",
        "import csv\n",
        "import sklearn\n",
        "from sklearn.ensemble import RandomForestClassifier\n",
        "from sklearn.model_selection import train_test_split\n",
        "from sklearn import metrics\n",
        "from sklearn import preprocessing\n",
        "from sklearn.metrics import classification_report\n",
        "from imblearn.over_sampling import RandomOverSampler\n",
        "from imblearn.over_sampling import SMOTE \n",
        "from imblearn.under_sampling import RandomUnderSampler\n",
        "from imblearn.under_sampling import NearMiss\n",
        "from collections import Counter"
      ]
    },
    {
      "cell_type": "code",
      "execution_count": 3,
      "metadata": {},
      "outputs": [],
      "source": [
        "#flight_data = pd.read_csv(r'C:\\Users\\badri\\Desktop\\ML-Project\\Flight Data\\Flight_Data.csv')\n",
        "from pathlib import Path\n",
        "\n",
        "# 1) Define your project root (where you launched the script / notebook)\n",
        "BASE_DIR = Path().resolve()      # or: Path(__file__).parent if in a .py module\n",
        "\n",
        "# 2) Point at your data folder\n",
        "DATA_DIR = BASE_DIR / 'data'\n",
        "\n",
        "# 3) Build each file’s path dynamically\n",
        "flight_csv   = DATA_DIR / 'filtered_flights.csv'\n",
        "weather_csv  = DATA_DIR / 'Weather' / 'Weather_Data.csv'\n",
        "final_csv   = DATA_DIR / 'Flight_Weather.csv'\n",
        "\n",
        "# 4) Read them with pandas\n",
        "#flight_data  = pd.read_csv(flight_csv)\n",
        "#weather_data = pd.read_csv(weather_csv)\n",
        "dataframe = pd.read_csv(final_csv)"
      ]
    },
    {
      "cell_type": "code",
      "execution_count": 0,
      "metadata": {
        "colab": {},
        "colab_type": "code",
        "id": "KwTAPKGvjez6"
      },
      "outputs": [],
      "source": [
        "#!pip install -U -q PyDrive\n",
        "#from pydrive.auth import GoogleAuth\n",
        "#from pydrive.drive import GoogleDrive\n",
        "#from google.colab import auth\n",
        "#from oauth2client.client import GoogleCredentials"
      ]
    },
    {
      "cell_type": "code",
      "execution_count": 0,
      "metadata": {
        "colab": {},
        "colab_type": "code",
        "id": "kdPfIO_0je2n"
      },
      "outputs": [],
      "source": [
        "#link = 'https://drive.google.com/open?id=17DbBIxtBcBM9Q4MWbeF46ml8WNv_ATKl'\n",
        "\n",
        "#fluff, id = link.split('=')"
      ]
    },
    {
      "cell_type": "code",
      "execution_count": 0,
      "metadata": {
        "colab": {},
        "colab_type": "code",
        "id": "ayi8mAslje5e"
      },
      "outputs": [],
      "source": [
        "#auth.authenticate_user()\n",
        "#gauth = GoogleAuth()\n",
        "#gauth.credentials = GoogleCredentials.get_application_default()\n",
        "#drive = GoogleDrive(gauth)"
      ]
    },
    {
      "cell_type": "code",
      "execution_count": 0,
      "metadata": {
        "colab": {},
        "colab_type": "code",
        "id": "f7s6cQybje8K"
      },
      "outputs": [],
      "source": [
        "#downloaded = drive.CreateFile({'id':id}) \n",
        "\n",
        "#downloaded.GetContentFile('Flight_Weather.csv')\n",
        "\n",
        "#dataframe = pd.read_csv('Flight_Weather.csv')"
      ]
    },
    {
      "cell_type": "code",
      "execution_count": 4,
      "metadata": {
        "colab": {},
        "colab_type": "code",
        "id": "9p5_ZtllwLZd"
      },
      "outputs": [],
      "source": [
        "data_label_encoder = preprocessing.LabelEncoder()\n",
        "\n",
        "encoded_list = data_label_encoder.fit_transform(dataframe['Airport'])\n",
        "\n",
        "dataframe['EncodedAirport'] = encoded_list"
      ]
    },
    {
      "cell_type": "code",
      "execution_count": 5,
      "metadata": {
        "colab": {},
        "colab_type": "code",
        "id": "DdQaobQDje_C"
      },
      "outputs": [],
      "source": [
        "y = dataframe['ArrDel15']\n",
        "\n",
        "dataframe = dataframe.drop(['ArrDel15','FlightDate','Date','Airport','ArrDelayMinutes'],axis = 1)\n",
        "\n",
        "X = dataframe"
      ]
    },
    {
      "cell_type": "code",
      "execution_count": 6,
      "metadata": {
        "colab": {},
        "colab_type": "code",
        "id": "xpmnP23hjfEt"
      },
      "outputs": [],
      "source": [
        "X_train, X_test, y_train, y_test = train_test_split(X, y, test_size = 0.25)"
      ]
    },
    {
      "cell_type": "code",
      "execution_count": 7,
      "metadata": {
        "colab": {
          "base_uri": "https://localhost:8080/",
          "height": 68
        },
        "colab_type": "code",
        "id": "FPr6pXyWjfM7",
        "outputId": "3bcda283-3108-4fe7-b35c-1c39f1ddbfcc"
      },
      "outputs": [
        {
          "name": "stdout",
          "output_type": "stream",
          "text": [
            " Original DataSet Shape :  Counter({0.0: 3007871, 1.0: 727692})\n",
            " RandomOverSampled DataSet Shape :  Counter({0.0: 3007871, 1.0: 3007871})\n",
            " SMOTE DataSet Shape :  Counter({0.0: 3007871, 1.0: 3007871})\n"
          ]
        }
      ],
      "source": [
        "print(\" Original DataSet Shape : \",Counter(y_train))\n",
        "\n",
        "ros = RandomOverSampler(random_state = 42)\n",
        "\n",
        "X_ros, y_ros = ros.fit_resample(X_train, y_train)\n",
        "\n",
        "print(\" RandomOverSampled DataSet Shape : \",Counter(y_ros))\n",
        "\n",
        "smote = SMOTE(random_state = 42)\n",
        "\n",
        "X_smote, y_smote = smote.fit_resample(X_train, y_train)\n",
        "\n",
        "print(\" SMOTE DataSet Shape : \",Counter(y_smote))"
      ]
    },
    {
      "cell_type": "code",
      "execution_count": 8,
      "metadata": {
        "colab": {
          "base_uri": "https://localhost:8080/",
          "height": 68
        },
        "colab_type": "code",
        "id": "ziIufdW7jfQB",
        "outputId": "ae8a25de-672e-42b2-9f55-30a8ded70e10"
      },
      "outputs": [
        {
          "name": "stdout",
          "output_type": "stream",
          "text": [
            " Original DataSet Shape :  Counter({0.0: 3007871, 1.0: 727692})\n",
            " RandomUnderampled DataSet Shape :  Counter({0.0: 727692, 1.0: 727692})\n",
            " NearMiss DataSet Shape :  Counter({0.0: 727692, 1.0: 727692})\n"
          ]
        }
      ],
      "source": [
        "print(\" Original DataSet Shape : \",Counter(y_train))\n",
        "\n",
        "rus = RandomUnderSampler(random_state = 42)\n",
        "\n",
        "X_rus, y_rus = rus.fit_resample(X_train,y_train)\n",
        "\n",
        "print(\" RandomUnderampled DataSet Shape : \",Counter(y_rus))\n",
        "\n",
        "nm = NearMiss()\n",
        "\n",
        "X_nm, y_nm = nm.fit_resample(X_train, y_train)\n",
        "\n",
        "print(\" NearMiss DataSet Shape : \",Counter(y_nm))"
      ]
    },
    {
      "cell_type": "code",
      "execution_count": 9,
      "metadata": {
        "colab": {},
        "colab_type": "code",
        "id": "Z8DDmuaCjfS9"
      },
      "outputs": [],
      "source": [
        "clf = RandomForestClassifier(n_estimators = 100)"
      ]
    },
    {
      "cell_type": "code",
      "execution_count": 10,
      "metadata": {
        "colab": {
          "base_uri": "https://localhost:8080/",
          "height": 237
        },
        "colab_type": "code",
        "id": "Tei9UrNQ_4FM",
        "outputId": "f6361ded-1f5b-4d1e-d545-a8be7cbf14d5"
      },
      "outputs": [
        {
          "name": "stdout",
          "output_type": "stream",
          "text": [
            " Classification Report \n",
            "\n",
            "\n",
            "\n",
            "              precision    recall  f1-score   support\n",
            "\n",
            "         0.0       0.95      0.98      0.96   1001953\n",
            "         1.0       0.92      0.77      0.84    243235\n",
            "\n",
            "    accuracy                           0.94   1245188\n",
            "   macro avg       0.93      0.87      0.90   1245188\n",
            "weighted avg       0.94      0.94      0.94   1245188\n",
            "\n"
          ]
        }
      ],
      "source": [
        "clf.fit(X_train,y_train)\n",
        "\n",
        "y_pred = clf.predict(X_test)\n",
        "\n",
        "filename = \"RFC_Normal.pkl\"\n",
        "\n",
        "pkl.dump(clf,open(filename,'wb'))\n",
        "\n",
        "print(\" Classification Report \")\n",
        "\n",
        "print(\"\\n\\n\")\n",
        "\n",
        "print(metrics.classification_report(y_test,y_pred))"
      ]
    },
    {
      "cell_type": "code",
      "execution_count": 11,
      "metadata": {
        "colab": {
          "base_uri": "https://localhost:8080/",
          "height": 237
        },
        "colab_type": "code",
        "id": "f52yGEuhjfV2",
        "outputId": "66b18236-d5b2-4d57-bd27-84e1d4f5708a"
      },
      "outputs": [
        {
          "name": "stdout",
          "output_type": "stream",
          "text": [
            " Classification Report \n",
            "\n",
            "\n",
            "\n",
            "              precision    recall  f1-score   support\n",
            "\n",
            "         0.0       0.95      0.98      0.96   1001953\n",
            "         1.0       0.89      0.80      0.84    243235\n",
            "\n",
            "    accuracy                           0.94   1245188\n",
            "   macro avg       0.92      0.89      0.90   1245188\n",
            "weighted avg       0.94      0.94      0.94   1245188\n",
            "\n"
          ]
        }
      ],
      "source": [
        "clf.fit(X_ros,y_ros)\n",
        "\n",
        "y_pred_ros = clf.predict(X_test)\n",
        "\n",
        "filename = \"RFC_ROS.pkl\"\n",
        "\n",
        "pkl.dump(clf,open(filename,'wb'))\n",
        "\n",
        "print(\" Classification Report \")\n",
        "\n",
        "print(\"\\n\\n\")\n",
        "\n",
        "print(metrics.classification_report(y_test,y_pred_ros))"
      ]
    },
    {
      "cell_type": "code",
      "execution_count": 12,
      "metadata": {
        "colab": {
          "base_uri": "https://localhost:8080/",
          "height": 237
        },
        "colab_type": "code",
        "id": "CdoK0cVGjfZJ",
        "outputId": "0898239c-85b9-413b-9630-a31a6a144873"
      },
      "outputs": [
        {
          "name": "stdout",
          "output_type": "stream",
          "text": [
            " Classification Report\n",
            "\n",
            "\n",
            "\n",
            "              precision    recall  f1-score   support\n",
            "\n",
            "         0.0       0.95      0.97      0.96   1001953\n",
            "         1.0       0.88      0.78      0.83    243235\n",
            "\n",
            "    accuracy                           0.94   1245188\n",
            "   macro avg       0.91      0.88      0.89   1245188\n",
            "weighted avg       0.93      0.94      0.93   1245188\n",
            "\n"
          ]
        }
      ],
      "source": [
        "clf.fit(X_smote,y_smote)\n",
        "\n",
        "y_pred_smote = clf.predict(X_test)\n",
        "\n",
        "filename = \"RFC_SMOTE.pkl\"\n",
        "\n",
        "pkl.dump(clf,open(filename,'wb'))\n",
        "\n",
        "print(\" Classification Report\")\n",
        "\n",
        "print(\"\\n\\n\")\n",
        "\n",
        "print(metrics.classification_report(y_test,y_pred_smote))"
      ]
    },
    {
      "cell_type": "code",
      "execution_count": 13,
      "metadata": {
        "colab": {
          "base_uri": "https://localhost:8080/",
          "height": 237
        },
        "colab_type": "code",
        "id": "VLQiBssHjfKX",
        "outputId": "6653bb73-f248-4469-aca6-5bc6f2ace5bc"
      },
      "outputs": [
        {
          "name": "stdout",
          "output_type": "stream",
          "text": [
            " Classification Report\n",
            "\n",
            "\n",
            "\n",
            "              precision    recall  f1-score   support\n",
            "\n",
            "         0.0       0.97      0.94      0.95   1001953\n",
            "         1.0       0.77      0.88      0.82    243235\n",
            "\n",
            "    accuracy                           0.93   1245188\n",
            "   macro avg       0.87      0.91      0.89   1245188\n",
            "weighted avg       0.93      0.93      0.93   1245188\n",
            "\n"
          ]
        }
      ],
      "source": [
        "clf.fit(X_rus,y_rus)\n",
        "\n",
        "y_pred_rus = clf.predict(X_test)\n",
        "\n",
        "filename = \"RFC_RUS.pkl\"\n",
        "\n",
        "pkl.dump(clf,open(filename,'wb'))\n",
        "\n",
        "print(\" Classification Report\")\n",
        "\n",
        "print(\"\\n\\n\")\n",
        "\n",
        "print(metrics.classification_report(y_test,y_pred_rus))"
      ]
    },
    {
      "cell_type": "code",
      "execution_count": 16,
      "metadata": {
        "colab": {
          "base_uri": "https://localhost:8080/",
          "height": 237
        },
        "colab_type": "code",
        "id": "SO3h9u9djfJG",
        "outputId": "921cdfac-5f68-4af0-fb55-d27c924036ef"
      },
      "outputs": [
        {
          "name": "stdout",
          "output_type": "stream",
          "text": [
            " Classification Report\n",
            "\n",
            "\n",
            "\n",
            "              precision    recall  f1-score   support\n",
            "\n",
            "         0.0       0.96      0.85      0.90   1001953\n",
            "         1.0       0.58      0.86      0.69    243235\n",
            "\n",
            "    accuracy                           0.85   1245188\n",
            "   macro avg       0.77      0.86      0.80   1245188\n",
            "weighted avg       0.89      0.85      0.86   1245188\n",
            "\n"
          ]
        }
      ],
      "source": [
        "clf.fit(X_nm,y_nm)\n",
        "\n",
        "y_pred_nm = clf.predict(X_test)\n",
        "\n",
        "filename = \"RFC_NM.pkl\"\n",
        "\n",
        "pkl.dump(clf,open(filename,'wb'))\n",
        "\n",
        "print(\" Classification Report\")\n",
        "\n",
        "print(\"\\n\\n\")\n",
        "\n",
        "print(metrics.classification_report(y_test,y_pred_nm))"
      ]
    }
  ],
  "metadata": {
    "colab": {
      "collapsed_sections": [],
      "name": "MLProjectRandomForestClassifieripynb",
      "provenance": []
    },
    "kernelspec": {
      "display_name": "Python 3",
      "name": "python3"
    },
    "language_info": {
      "codemirror_mode": {
        "name": "ipython",
        "version": 3
      },
      "file_extension": ".py",
      "mimetype": "text/x-python",
      "name": "python",
      "nbconvert_exporter": "python",
      "pygments_lexer": "ipython3",
      "version": "3.11.6"
    }
  },
  "nbformat": 4,
  "nbformat_minor": 0
}
